{
 "cells": [
  {
   "cell_type": "markdown",
   "id": "7358c461",
   "metadata": {},
   "source": [
    "du 20/04/2023 au 25/04/2022     \n",
    "notebook 8   \n",
    "objectif : faire une synthèse des observations sur l'entity linker de Spacy   "
   ]
  },
  {
   "cell_type": "markdown",
   "id": "15946b83",
   "metadata": {},
   "source": [
    "# Test du sytème d'entity linking de Spacy"
   ]
  },
  {
   "cell_type": "markdown",
   "id": "7673f0e4",
   "metadata": {},
   "source": [
    "Nous définissons deux fonctions, une avec le modèle de langue anglais \"en_core_web_md\", l'autre avec le modèle de langue français \"fr_core_news_lg\". "
   ]
  },
  {
   "cell_type": "code",
   "execution_count": 2,
   "id": "d11391b7",
   "metadata": {},
   "outputs": [],
   "source": [
    "import spacy  # version 3.5\n",
    "# initialize language model"
   ]
  },
  {
   "cell_type": "code",
   "execution_count": 3,
   "id": "5def8a02",
   "metadata": {},
   "outputs": [],
   "source": [
    "def read (texte):\n",
    "    nlp = spacy.load(\"en_core_web_md\")\n",
    "# add pipeline (declared through entry_points in setup.py)\n",
    "    nlp.add_pipe(\"entityLinker\", last=True)\n",
    "    doc = nlp(texte)\n",
    "# returns all entities in the whole document\n",
    "    all_linked_entities = doc._.linkedEntities\n",
    "# iterates over sentences and prints linked entities\n",
    "    for sent in doc.sents:\n",
    "        sent._.linkedEntities.pretty_print()"
   ]
  },
  {
   "cell_type": "code",
   "execution_count": 4,
   "id": "1d5096d3",
   "metadata": {},
   "outputs": [],
   "source": [
    "def lire (texte):\n",
    "    nlp = spacy.load(\"fr_core_news_lg\")\n",
    "# add pipeline (declared through entry_points in setup.py)\n",
    "    nlp.add_pipe(\"entityLinker\", last=True)\n",
    "    doc = nlp(texte)\n",
    "# returns all entities in the whole document\n",
    "    all_linked_entities = doc._.linkedEntities\n",
    "# iterates over sentences and prints linked entities\n",
    "    for sent in doc.sents:\n",
    "        sent._.linkedEntities.pretty_print()"
   ]
  },
  {
   "cell_type": "markdown",
   "id": "5fe3b21e",
   "metadata": {},
   "source": [
    "## Exemple par défaut"
   ]
  },
  {
   "cell_type": "markdown",
   "id": "1851cb99",
   "metadata": {},
   "source": [
    "Bien sûr, l'exemple par défaut fonctionne. "
   ]
  },
  {
   "cell_type": "code",
   "execution_count": 5,
   "id": "57952938",
   "metadata": {},
   "outputs": [
    {
     "name": "stdout",
     "output_type": "stream",
     "text": [
      "<EntityElement: https://www.wikidata.org/wiki/Q194318 Pirates of the Caribbean  Series of fantasy adventure films                 >\n",
      "<EntityElement: https://www.wikidata.org/wiki/Q12525597 Silvester                 the day celebrated on 31 December (Roman Catholic Church) or 2 January (Eastern Orthodox Churches)>\n"
     ]
    }
   ],
   "source": [
    "read(\"I watched the Pirates of the Caribbean last silvester\")"
   ]
  },
  {
   "cell_type": "markdown",
   "id": "334ca4bb",
   "metadata": {},
   "source": [
    "## Napoléon fait des problèmes"
   ]
  },
  {
   "cell_type": "code",
   "execution_count": 6,
   "id": "16310c7b",
   "metadata": {},
   "outputs": [
    {
     "name": "stdout",
     "output_type": "stream",
     "text": [
      "<EntityElement: https://www.wikidata.org/wiki/Q1632158 Napoléon                  1927 film by Abel Gance                           >\n",
      "<EntityElement: https://www.wikidata.org/wiki/Q157521 Charles Lucien Bonaparte  French biologist                                  >\n"
     ]
    }
   ],
   "source": [
    "lire(\"Napoléon Bonaparte a envahit la Russie en 1812\")"
   ]
  },
  {
   "cell_type": "markdown",
   "id": "bac94c15",
   "metadata": {},
   "source": [
    "Cette exemple apparait surprenant. En premier lieu, \"Napoléon Bonaparte\" n'est pas envisagé comme un nom complet. Visiblement, le programme semble envisager les entités au token sans prendre en compte les unités de sens. De manière plus surprenante encore, ni \"Napoléon\", ni \"Bonaparte\" n'est reconnu comme faisant référence au personnage historique Napoléon Bonaparte, empereur des français. Les entités trouvées font référence à des éléments peu connus et statistiquement peu probables : un film d'Abel Gance et un biologiste français bien moins célébre que son oncle. La réponse est d'autant plus surprenante que \"Napoléon\", \"French military leader, French Emperor 1804–1814 and again in 1815\" apparait en premier lors de la recherche de \"Napoléon\" sur wikisource. D'autres entités nommées comme \"Russie\" ou \"1812\" alors qu'elles sont présentes dans la base wikisource, ne sont pas reconnues. Les performances du système de reconnaissance d'entité nommée semblent donc faibles dans cette configuration. On peut donc s'interroger s'il s'agit de celui originellement implémenté par SpaCy. Nous défissons donc deux fonctions l'une `REN ()` avec le modèle de langue francais \"fr_core_news_lg\", l'autre `NER()` avec le modèle anglais \"en_core_web_md\". "
   ]
  },
  {
   "cell_type": "code",
   "execution_count": 7,
   "id": "82ff7c3e",
   "metadata": {},
   "outputs": [],
   "source": [
    "def REN(texte):\n",
    "    nlp = spacy.load(\"fr_core_news_lg\")\n",
    "    doc = nlp(texte)\n",
    "    for ent in doc.ents:\n",
    "        print(ent.text, ent.label_)"
   ]
  },
  {
   "cell_type": "code",
   "execution_count": 8,
   "id": "d4beb88f",
   "metadata": {},
   "outputs": [],
   "source": [
    "def NER(texte): \n",
    "    nlp = spacy.load(\"en_core_web_md\")\n",
    "    doc = nlp(texte)\n",
    "    for ent in doc.ents:\n",
    "        print(ent.text, ent.label_)"
   ]
  },
  {
   "cell_type": "code",
   "execution_count": 9,
   "id": "5f020d7b",
   "metadata": {},
   "outputs": [
    {
     "name": "stdout",
     "output_type": "stream",
     "text": [
      "Napoléon Bonaparte PERSON\n",
      "Russie GPE\n",
      "1812 DATE\n"
     ]
    }
   ],
   "source": [
    "NER(\"Napoléon Bonaparte a envahit la Russie en 1812\")"
   ]
  },
  {
   "cell_type": "code",
   "execution_count": 13,
   "id": "85425f80",
   "metadata": {},
   "outputs": [
    {
     "name": "stdout",
     "output_type": "stream",
     "text": [
      "Napoléon Bonaparte PER\n",
      "Russie LOC\n"
     ]
    }
   ],
   "source": [
    "REN(\"Napoléon Bonaparte a envahit la Russie en 1812\")"
   ]
  },
  {
   "cell_type": "markdown",
   "id": "4a6dc41b",
   "metadata": {},
   "source": [
    "Nous constatons que les entités reconnues par le système de reconnaissance des entités nommées de SpaCy, ne sont pas les mêmes que celles reconnues par l'entity linker. Il apparait donc que l'entity linker n'emploit pas la reconnaissance d'entité nommée originellement implémentée dans SpaCy. Nous observons aussi que \"Napoléon Bonaparte\" est bien reconnu comme \"PERSON\". Il faut toutefois noter une différence entre le modèle français et le modèle anglais : la date \"1812\" est reconnue par la fonction `NER()` et non par `REN()`. "
   ]
  },
  {
   "cell_type": "code",
   "execution_count": 15,
   "id": "c4d4a277",
   "metadata": {},
   "outputs": [
    {
     "name": "stdout",
     "output_type": "stream",
     "text": [
      "<EntityElement: https://www.wikidata.org/wiki/Q517 Napoleon                  French general, First Consul and later Emperor of the French>\n",
      "<EntityElement: https://www.wikidata.org/wiki/Q397 Latin                     almost extinct Indo-European language of the Italic family>\n"
     ]
    }
   ],
   "source": [
    "read (\"Napoléon Bonaparte a envahit la Russie en 1812\")"
   ]
  },
  {
   "cell_type": "markdown",
   "id": "cea19d5d",
   "metadata": {},
   "source": [
    "Il pourrait sembler au vu des observations précédentes que le modèle de langue défini n'ait pas d'importance puisque l'entity linker semble fonctionner avec son propre modèle de reconnaissance des entités nommées. Pourtant, la fonction `read()` où le modèle de langue \"en_core_web_md\" est implémentée, apparait plus performante que `lire()`.    \n",
    "Avec la fonction `read()`, \"Napoléon Bonaparte\" est associé au bon identifiant. \n",
    "Cependant, on obtient également le terme \"Latin\" issu certainement d'une surcorrection du mot \"envahit\". "
   ]
  },
  {
   "cell_type": "markdown",
   "id": "3bc2b7af",
   "metadata": {},
   "source": [
    "Si par ailleurs, nous appliquons la fonction `read()`, à la même phrase traduite en anglais. \"Napoleon Bonaparte\" et \"Russia\" sont correctement reconnus mais \"1812\" n'est pas identifié. "
   ]
  },
  {
   "cell_type": "code",
   "execution_count": 16,
   "id": "a953f0d7",
   "metadata": {},
   "outputs": [
    {
     "name": "stdout",
     "output_type": "stream",
     "text": [
      "<EntityElement: https://www.wikidata.org/wiki/Q517 Napoleon                  French general, First Consul and later Emperor of the French>\n",
      "<EntityElement: https://www.wikidata.org/wiki/Q159 Russia                    transcontinental country in Eastern Europe and Northern Asia>\n"
     ]
    }
   ],
   "source": [
    "read(\"Napoléon Bonaparte invaded Russia in 1812\")"
   ]
  },
  {
   "cell_type": "markdown",
   "id": "c392a12b",
   "metadata": {},
   "source": [
    "Nous pouvons donc en conclure, que le système d'entity linking semble être pensé pour la langue anglais et ne fonctionner efficacement que pour cette langue. On remarque également que le modèle de langue a son importance. Ainsi, le modèle français semble bien moins efficace, même sur un texte en français que le modèle anglais. Ceci s'explique simplement par une réponse à une question sur le multilinguisme du concepteur du dataset, Gabriel Altay :  "
   ]
  },
  {
   "cell_type": "markdown",
   "id": "6ab4630f",
   "metadata": {},
   "source": [
    "\"Wikidata (the knowledge graph) is semi language agnostic. In other words, there is one entry for \"Earth\" that links to the various language Wikipedias (encyclopedias). This dataset links English Wikipedia page text and links to Wikidata. Something similar could be done for Chinese Wikipedia, but it has not been done for this dataset.\" \n",
    "https://www.kaggle.com/datasets/kenshoresearch/kensho-derived-wikimedia-data/discussion/342001"
   ]
  },
  {
   "cell_type": "code",
   "execution_count": null,
   "id": "acfc6b7d",
   "metadata": {},
   "outputs": [],
   "source": []
  },
  {
   "cell_type": "markdown",
   "id": "d6fb385f",
   "metadata": {},
   "source": [
    "De plus, il semble que l'algorithme ait recours à une correction automatique. En effet, les termes reconnus souvent ne figurent pas dans le corpus même sous un forme bruitée : \"Aurora\". L'algorithme a sûrement fait le rapprochement en corrigeant une forme contaminée. En recherchant dans le corpus, on ne parvient pas à trouver la forme à l'origine de cette surcorrection. "
   ]
  },
  {
   "cell_type": "markdown",
   "id": "d499149f",
   "metadata": {},
   "source": [
    "Emily Bender tout est pensé pour anglais\n",
    "François Rastier, base de connaissance ne peut pas figier les éléments et caractéristiques sans tenir \n",
    "Crédit et cash pas le \n",
    "Pas maintenu pas performant, pas "
   ]
  },
  {
   "cell_type": "markdown",
   "id": "3a1fab03",
   "metadata": {},
   "source": [
    "En chargeant l'entity liker, il apparait impossible de paramétrer la langue."
   ]
  },
  {
   "cell_type": "markdown",
   "id": "0a5f71fe",
   "metadata": {},
   "source": []
  },
  {
   "cell_type": "code",
   "execution_count": null,
   "id": "43b6a93f",
   "metadata": {},
   "outputs": [],
   "source": []
  }
 ],
 "metadata": {
  "kernelspec": {
   "display_name": "Python 3 (ipykernel)",
   "language": "python",
   "name": "python3"
  },
  "language_info": {
   "codemirror_mode": {
    "name": "ipython",
    "version": 3
   },
   "file_extension": ".py",
   "mimetype": "text/x-python",
   "name": "python",
   "nbconvert_exporter": "python",
   "pygments_lexer": "ipython3",
   "version": "3.9.7"
  }
 },
 "nbformat": 4,
 "nbformat_minor": 5
}
