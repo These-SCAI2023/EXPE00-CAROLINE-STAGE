{
 "cells": [
  {
   "cell_type": "markdown",
   "id": "394c5bd3",
   "metadata": {},
   "source": [
    "du 11/04/2023  \n",
    "notebook 6  \n",
    "objectif : pouvoir comparer les sorties  \n",
    "contexte : "
   ]
  },
  {
   "cell_type": "markdown",
   "id": "20b3f5c6",
   "metadata": {},
   "source": [
    "# Test du sytème d'entity linking de Spacy"
   ]
  },
  {
   "cell_type": "code",
   "execution_count": 28,
   "id": "2eb879e9",
   "metadata": {},
   "outputs": [
    {
     "data": {
      "text/plain": [
       "<spacy_entity_linker.EntityLinker.EntityLinker at 0x7f42d9282e50>"
      ]
     },
     "execution_count": 28,
     "metadata": {},
     "output_type": "execute_result"
    }
   ],
   "source": [
    "import json\n",
    "import spacy  # version 3.5\n",
    "import glob \n",
    "\n",
    "\n",
    "# initialize language model\n",
    "nlp = spacy.load(\"fr_core_news_lg\")\n",
    "\n",
    "# add pipeline (declared through entry_points in setup.py)\n",
    "nlp.add_pipe(\"entityLinker\", last=True)"
   ]
  },
  {
   "cell_type": "markdown",
   "id": "db6b9f70",
   "metadata": {},
   "source": [
    "## Définition des fonctions"
   ]
  },
  {
   "cell_type": "code",
   "execution_count": 29,
   "id": "9447ee21",
   "metadata": {},
   "outputs": [],
   "source": [
    "def lire_corpus(chemin):\n",
    "    with open (chemin,\"r\") as fichier:\n",
    "        texte=fichier.read()\n",
    "        # fichier.close()\n",
    "        # print(texte)\n",
    "        return texte"
   ]
  },
  {
   "cell_type": "code",
   "execution_count": 30,
   "id": "7e021305",
   "metadata": {},
   "outputs": [],
   "source": [
    "def lire_fichier (chemin):\n",
    "    with open(chemin) as json_data: \n",
    "        texte =json.load(json_data)\n",
    "    return texte"
   ]
  },
  {
   "cell_type": "code",
   "execution_count": 31,
   "id": "ad677e80",
   "metadata": {},
   "outputs": [],
   "source": [
    "def nomfichier(chemin):\n",
    "    nomfich= chemin.split(\"/\")[-1]\n",
    "    nomfich= nomfich.split(\".\")\n",
    "    nomfich= (\"_\").join([nomfich[0],nomfich[1]])\n",
    "    return nomfichier"
   ]
  },
  {
   "cell_type": "code",
   "execution_count": 32,
   "id": "d413f568",
   "metadata": {},
   "outputs": [],
   "source": [
    "def stocker(nom,contenu):                                                    #definition fonction pour stocker fichier en format json\n",
    "    w=open(nom,\"w\",encoding='utf-8')                                                          #ouverture du fichier en mode écriture\n",
    "    w.write(json.dumps(contenu, indent=2))                                      #écriture du contenu dans le fichier\n",
    "    w.close()  \n",
    "#with open('output_file.json', 'w', encoding='utf-8') as f:\n",
    "    #json.dump(ents, f, ensure_ascii=False, indent=4)"
   ]
  },
  {
   "cell_type": "code",
   "execution_count": 43,
   "id": "4e449401",
   "metadata": {},
   "outputs": [],
   "source": [
    "def transformer (texte):\n",
    "    doc = nlp(texte)\n",
    "    liste_info=[[\"id_wiki\",\"terme\",\"terme_lié\",\"description\"]]\n",
    "    #ents = [(e.text, e.label_, e.kb_id_) for e in doc.ents]\n",
    "    #ents = [(e.text, e.label_, e.kb_id_) for e in doc.ents]\n",
    "    for ent in doc._.linkedEntities:\n",
    "        url_00 = ent.get_url()\n",
    "        label_00=ent.get_label()\n",
    "        description=ent.get_description()\n",
    "        span_00=ent.get_span()\n",
    "        liste_info.append([url_00,span_00,label_00,description])\n",
    "        \n",
    "    #ents.sort()\n",
    "    return liste_info"
   ]
  },
  {
   "cell_type": "code",
   "execution_count": 44,
   "id": "4085e03f",
   "metadata": {},
   "outputs": [],
   "source": [
    "def compare (data1,data2):\n",
    "    # Extraire les valeurs de chaque fichier\n",
    "    values1 = set(data1.values())\n",
    "    values2 = set(data2.values())\n",
    "\n",
    "    # Trouver les valeurs communes\n",
    "    common_values = values1.intersection(values2)\n",
    "\n",
    "    # Afficher les valeurs communes\n",
    "    print(\"Les valeurs communes sont :\", common_values)"
   ]
  },
  {
   "cell_type": "markdown",
   "id": "688c92d7",
   "metadata": {},
   "source": [
    "# Tentative de solution développée"
   ]
  },
  {
   "cell_type": "code",
   "execution_count": 45,
   "id": "8141dc00",
   "metadata": {},
   "outputs": [
    {
     "name": "stdout",
     "output_type": "stream",
     "text": [
      "[['id_wiki', 'terme', 'terme_lié', 'description'], ['https://www.wikidata.org/wiki/Q180309', -, 'hyphen', 'punctuation mark used to join words'], ['https://www.wikidata.org/wiki/Q180309', -, 'hyphen', 'punctuation mark used to join words'], ['https://www.wikidata.org/wiki/Q21501975', Cellier, 'Cellier', 'family name'], ['https://www.wikidata.org/wiki/Q519034', Rose, 'Aurora', \"title character from Disney's 1959 animated film Sleeping Beauty\"], ['https://www.wikidata.org/wiki/Q180309', -, 'hyphen', 'punctuation mark used to join words'], ['https://www.wikidata.org/wiki/Q7813319', toi, 'Toi', 'name'], ['https://www.wikidata.org/wiki/Q519034', Rose, 'Aurora', \"title character from Disney's 1959 animated film Sleeping Beauty\"], ['https://www.wikidata.org/wiki/Q3164791', Jean-Claude, 'Jean-Claude', 'male given name'], ['https://www.wikidata.org/wiki/Q160669', M, 'Mach number', 'ratio of speed of object moving through fluid and speed of sound'], ['https://www.wikidata.org/wiki/Q519034', Rose, 'Aurora', \"title character from Disney's 1959 animated film Sleeping Beauty\"], ['https://www.wikidata.org/wiki/Q4398011', Rosel, 'Ruselectronics', ''], ['https://www.wikidata.org/wiki/Q467925', Desiree, 'Desireé Cousteau', 'American pornographic actress'], ['https://www.wikidata.org/wiki/Q519034', Rose, 'Aurora', \"title character from Disney's 1959 animated film Sleeping Beauty\"], ['https://www.wikidata.org/wiki/Q519034', Rose, 'Aurora', \"title character from Disney's 1959 animated film Sleeping Beauty\"], ['https://www.wikidata.org/wiki/Q3164791', Jean-Claude, 'Jean-Claude', 'male given name'], ['https://www.wikidata.org/wiki/Q519034', Rose, 'Aurora', \"title character from Disney's 1959 animated film Sleeping Beauty\"], ['https://www.wikidata.org/wiki/Q2351943', Voila, 'Voila', 'album by Belinda Carlisle'], ['https://www.wikidata.org/wiki/Q586615', mre, 'Meal, Ready-to-Eat', 'meal supplied by the US military'], ['https://www.wikidata.org/wiki/Q180309', -, 'hyphen', 'punctuation mark used to join words'], ['https://www.wikidata.org/wiki/Q1158484', Quentin, 'Quentin', 'male given name'], ['https://www.wikidata.org/wiki/Q16281827', Sylvain, 'Sylvain', 'male given name'], ['https://www.wikidata.org/wiki/Q182132', Fut, 'Pointe Vele Airport', 'airport'], ['https://www.wikidata.org/wiki/Q5046378', Carriere, 'Carriere', 'unincoporated community in Pearl River County, Mississippi'], ['https://www.wikidata.org/wiki/Q180309', -, 'hyphen', 'punctuation mark used to join words'], ['https://www.wikidata.org/wiki/Q190531', Fondue, 'fondue', 'dish of melted cheese'], ['https://www.wikidata.org/wiki/Q1103', I, 'iodine', 'chemical element with the atomic number of 53'], ['https://www.wikidata.org/wiki/Q1336814', Morlincourt, 'Morlincourt', 'commune in Oise, France'], ['https://www.wikidata.org/wiki/Q519034', Rose, 'Aurora', \"title character from Disney's 1959 animated film Sleeping Beauty\"], ['https://www.wikidata.org/wiki/Q5357120', parole, 'parole', 'provisional release from prison, with certain conditions such as probation in some states'], ['https://www.wikidata.org/wiki/Q180309', -, 'hyphen', 'punctuation mark used to join words'], ['https://www.wikidata.org/wiki/Q3164791', Jean-Claude, 'Jean-Claude', 'male given name'], ['https://www.wikidata.org/wiki/Q3164791', Jean-Claude, 'Jean-Claude', 'male given name'], ['https://www.wikidata.org/wiki/Q21501975', Cellier, 'Cellier', 'family name'], ['https://www.wikidata.org/wiki/Q3164791', Jean-Claude, 'Jean-Claude', 'male given name'], ['https://www.wikidata.org/wiki/Q1336814', Morlincourt, 'Morlincourt', 'commune in Oise, France'], ['https://www.wikidata.org/wiki/Q519034', Rose, 'Aurora', \"title character from Disney's 1959 animated film Sleeping Beauty\"], ['https://www.wikidata.org/wiki/Q519034', Rose, 'Aurora', \"title character from Disney's 1959 animated film Sleeping Beauty\"], ['https://www.wikidata.org/wiki/Q519034', Rose, 'Aurora', \"title character from Disney's 1959 animated film Sleeping Beauty\"], ['https://www.wikidata.org/wiki/Q519034', Rose, 'Aurora', \"title character from Disney's 1959 animated film Sleeping Beauty\"], ['https://www.wikidata.org/wiki/Q519034', Rose, 'Aurora', \"title character from Disney's 1959 animated film Sleeping Beauty\"], ['https://www.wikidata.org/wiki/Q180309', -, 'hyphen', 'punctuation mark used to join words'], ['https://www.wikidata.org/wiki/Q519034', Rose, 'Aurora', \"title character from Disney's 1959 animated film Sleeping Beauty\"], ['https://www.wikidata.org/wiki/Q519034', Rose, 'Aurora', \"title character from Disney's 1959 animated film Sleeping Beauty\"], ['https://www.wikidata.org/wiki/Q160669', M, 'Mach number', 'ratio of speed of object moving through fluid and speed of sound'], ['https://www.wikidata.org/wiki/Q519034', Rose, 'Aurora', \"title character from Disney's 1959 animated film Sleeping Beauty\"], ['https://www.wikidata.org/wiki/Q519034', Rose, 'Aurora', \"title character from Disney's 1959 animated film Sleeping Beauty\"], ['https://www.wikidata.org/wiki/Q519034', Rose, 'Aurora', \"title character from Disney's 1959 animated film Sleeping Beauty\"], ['https://www.wikidata.org/wiki/Q59638131', gca, 'Gamers’ Choice Awards', 'annual awards ceremony'], ['https://www.wikidata.org/wiki/Q1059190', chaise, 'chaise', 'two wheeled, open sled-formed carriage supported on suspension system with one seat for one passenger, the driver. Primarily meant for summer leisure rides'], ['https://www.wikidata.org/wiki/Q519034', Rose, 'Aurora', \"title character from Disney's 1959 animated film Sleeping Beauty\"], ['https://www.wikidata.org/wiki/Q519034', Rose, 'Aurora', \"title character from Disney's 1959 animated film Sleeping Beauty\"], ['https://www.wikidata.org/wiki/Q519034', Rose, 'Aurora', \"title character from Disney's 1959 animated film Sleeping Beauty\"], ['https://www.wikidata.org/wiki/Q519034', Rose, 'Aurora', \"title character from Disney's 1959 animated film Sleeping Beauty\"], ['https://www.wikidata.org/wiki/Q519034', Rose, 'Aurora', \"title character from Disney's 1959 animated film Sleeping Beauty\"], ['https://www.wikidata.org/wiki/Q519034', Rose, 'Aurora', \"title character from Disney's 1959 animated film Sleeping Beauty\"], ['https://www.wikidata.org/wiki/Q90', Paris, 'Paris', 'capital and largest city of France'], ['https://www.wikidata.org/wiki/Q1336814', Morlincourt, 'Morlincourt', 'commune in Oise, France'], ['https://www.wikidata.org/wiki/Q3164791', Jean-Claude, 'Jean-Claude', 'male given name'], ['https://www.wikidata.org/wiki/Q5181875', Cran, 'Cran', 'unit of measure'], ['https://www.wikidata.org/wiki/Q191118', t, 'tonne', 'metric unit of mass'], ['https://www.wikidata.org/wiki/Q3164791', Jean-Claude, 'Jean-Claude', 'male given name'], ['https://www.wikidata.org/wiki/Q3164791', Jean-Claude, 'Jean-Claude', 'male given name'], ['https://www.wikidata.org/wiki/Q90', Paris, 'Paris', 'capital and largest city of France'], ['https://www.wikidata.org/wiki/Q3164791', Jean-Claude, 'Jean-Claude', 'male given name'], ['https://www.wikidata.org/wiki/Q19516', lille, 'Lille OSC', 'French association football club'], ['https://www.wikidata.org/wiki/Q3164791', Jean-Claude, 'Jean-Claude', 'male given name'], ['https://www.wikidata.org/wiki/Q519034', Rose, 'Aurora', \"title character from Disney's 1959 animated film Sleeping Beauty\"], ['https://www.wikidata.org/wiki/Q519034', Rose, 'Aurora', \"title character from Disney's 1959 animated film Sleeping Beauty\"], ['https://www.wikidata.org/wiki/Q519034', Rose, 'Aurora', \"title character from Disney's 1959 animated film Sleeping Beauty\"], ['https://www.wikidata.org/wiki/Q20995925', buis, 'Buis', 'family name'], ['https://www.wikidata.org/wiki/Q20995925', buis, 'Buis', 'family name'], ['https://www.wikidata.org/wiki/Q4695154', Ahl, 'Ahl', 'family name'], ['https://www.wikidata.org/wiki/Q3164791', Jean-Claude, 'Jean-Claude', 'male given name'], ['https://www.wikidata.org/wiki/Q2091584', E, \"Young's modulus\", 'mechanical property of linear elastic solid materials'], ['https://www.wikidata.org/wiki/Q682', S, 'sulfur', 'element with the atomic number of 16'], ['https://www.wikidata.org/wiki/Q180309', -, 'hyphen', 'punctuation mark used to join words'], ['https://www.wikidata.org/wiki/Q180309', -, 'hyphen', 'punctuation mark used to join words'], ['https://www.wikidata.org/wiki/Q180309', -, 'hyphen', 'punctuation mark used to join words'], ['https://www.wikidata.org/wiki/Q9659', a, 'A', 'letter of the Latin alphabet'], ['https://www.wikidata.org/wiki/Q180309', -, 'hyphen', 'punctuation mark used to join words'], ['https://www.wikidata.org/wiki/Q59638131', gca, 'Gamers’ Choice Awards', 'annual awards ceremony'], ['https://www.wikidata.org/wiki/Q180309', -, 'hyphen', 'punctuation mark used to join words'], ['https://www.wikidata.org/wiki/Q57410', peres, 'Shimon Peres', 'Israeli politician'], ['https://www.wikidata.org/wiki/Q9887', A, 'Α', 'letter of the Greek alphabet'], ['https://www.wikidata.org/wiki/Q465227', VILLAGE, 'The Village', '2004 American psychological horror film directed by M. Night Shyamalan'], ['https://www.wikidata.org/wiki/Q733658', Clarisse, 'Poor Clares', 'Catholic order of convent nuns'], ['https://www.wikidata.org/wiki/Q3164791', Jean-Claude, 'Jean-Claude', 'male given name'], ['https://www.wikidata.org/wiki/Q180309', -, 'hyphen', 'punctuation mark used to join words'], ['https://www.wikidata.org/wiki/Q7813319', toi, 'Toi', 'name'], ['https://www.wikidata.org/wiki/Q1661655', Tache, 'Taché', 'rural municipality in Manitoba, Canada'], ['https://www.wikidata.org/wiki/Q2777738', Manot, 'Manot', 'human settlement in Israel'], ['https://www.wikidata.org/wiki/Q2777738', Manot, 'Manot', 'human settlement in Israel'], ['https://www.wikidata.org/wiki/Q3164791', Jean-Claude, 'Jean-Claude', 'male given name'], ['https://www.wikidata.org/wiki/Q535034', revolutions, 'Revolutions', 'sixth studio album by Jean Michel Jarre'], ['https://www.wikidata.org/wiki/Q733658', Clarisse, 'Poor Clares', 'Catholic order of convent nuns'], ['https://www.wikidata.org/wiki/Q1382472', soi, 'Soi', ''], ['https://www.wikidata.org/wiki/Q1442533', rois, 'Rois', 'municipality in Galician province A Coruña, Spain'], ['https://www.wikidata.org/wiki/Q733658', Clarisse, 'Poor Clares', 'Catholic order of convent nuns'], ['https://www.wikidata.org/wiki/Q160669', M, 'Mach number', 'ratio of speed of object moving through fluid and speed of sound'], ['https://www.wikidata.org/wiki/Q180309', -, 'hyphen', 'punctuation mark used to join words'], ['https://www.wikidata.org/wiki/Q7813319', toi, 'Toi', 'name'], ['https://www.wikidata.org/wiki/Q16281827', Sylvain, 'Sylvain', 'male given name'], ['https://www.wikidata.org/wiki/Q3164791', Jean-Claude, 'Jean-Claude', 'male given name'], ['https://www.wikidata.org/wiki/Q2777738', Manot, 'Manot', 'human settlement in Israel'], ['https://www.wikidata.org/wiki/Q180309', -, 'hyphen', 'punctuation mark used to join words'], ['https://www.wikidata.org/wiki/Q9174935', Pae, 'Bae', 'Korean family name (배)'], ['https://www.wikidata.org/wiki/Q2091584', E, \"Young's modulus\", 'mechanical property of linear elastic solid materials'], ['https://www.wikidata.org/wiki/Q2091584', E, \"Young's modulus\", 'mechanical property of linear elastic solid materials'], ['https://www.wikidata.org/wiki/Q519034', Rose, 'Aurora', \"title character from Disney's 1959 animated film Sleeping Beauty\"], ['https://www.wikidata.org/wiki/Q621695', blame, 'blame', 'act of censuring, holding responsible, making negative statements about an individual or group'], ['https://www.wikidata.org/wiki/Q180309', -, 'hyphen', 'punctuation mark used to join words'], ['https://www.wikidata.org/wiki/Q519034', Rose, 'Aurora', \"title character from Disney's 1959 animated film Sleeping Beauty\"], ['https://www.wikidata.org/wiki/Q3164791', Jean-Claude, 'Jean-Claude', 'male given name'], ['https://www.wikidata.org/wiki/Q519034', Rose, 'Aurora', \"title character from Disney's 1959 animated film Sleeping Beauty\"], ['https://www.wikidata.org/wiki/Q519034', Rose, 'Aurora', \"title character from Disney's 1959 animated film Sleeping Beauty\"], ['https://www.wikidata.org/wiki/Q519034', Rose, 'Aurora', \"title character from Disney's 1959 animated film Sleeping Beauty\"], ['https://www.wikidata.org/wiki/Q519034', Rose, 'Aurora', \"title character from Disney's 1959 animated film Sleeping Beauty\"], ['https://www.wikidata.org/wiki/Q519034', Rose, 'Aurora', \"title character from Disney's 1959 animated film Sleeping Beauty\"], ['https://www.wikidata.org/wiki/Q519034', Rose, 'Aurora', \"title character from Disney's 1959 animated film Sleeping Beauty\"], ['https://www.wikidata.org/wiki/Q1336814', Morlincourt, 'Morlincourt', 'commune in Oise, France'], ['https://www.wikidata.org/wiki/Q388242', tete, 'Tete', 'city in Mozambique'], ['https://www.wikidata.org/wiki/Q581707', Sainte-Radegonde, 'Sainte-Radegonde', 'commune in Gironde, France'], ['https://www.wikidata.org/wiki/Q9887', A, 'Α', 'letter of the Greek alphabet'], ['https://www.wikidata.org/wiki/Q1336814', Morlincourt, 'Morlincourt', 'commune in Oise, France'], ['https://www.wikidata.org/wiki/Q6736712', mains, 'Mains', ''], ['https://www.wikidata.org/wiki/Q3164791', Jean-Claude, 'Jean-Claude', 'male given name'], ['https://www.wikidata.org/wiki/Q3164791', Jean-Claude, 'Jean-Claude', 'male given name'], ['https://www.wikidata.org/wiki/Q741536', Dizy, 'Dizy', 'commune in Marne, France'], ['https://www.wikidata.org/wiki/Q741536', Dizy, 'Dizy', 'commune in Marne, France'], ['https://www.wikidata.org/wiki/Q3164791', Jean-Claude, 'Jean-Claude', 'male given name'], ['https://www.wikidata.org/wiki/Q4695154', Ahl, 'Ahl', 'family name'], ['https://www.wikidata.org/wiki/Q519034', Rose, 'Aurora', \"title character from Disney's 1959 animated film Sleeping Beauty\"], ['https://www.wikidata.org/wiki/Q858216', ceremonie, 'La Cérémonie', '1995 French film directed by Claude Chabrol'], ['https://www.wikidata.org/wiki/Q180309', -, 'hyphen', 'punctuation mark used to join words'], ['https://www.wikidata.org/wiki/Q3164791', Jean-Claude, 'Jean-Claude', 'male given name'], ['https://www.wikidata.org/wiki/Q741536', Dizy, 'Dizy', 'commune in Marne, France'], ['https://www.wikidata.org/wiki/Q741536', Dizy, 'Dizy', 'commune in Marne, France'], ['https://www.wikidata.org/wiki/Q3164791', Jean-Claude, 'Jean-Claude', 'male given name'], ['https://www.wikidata.org/wiki/Q160669', M, 'Mach number', 'ratio of speed of object moving through fluid and speed of sound'], ['https://www.wikidata.org/wiki/Q1382472', soi, 'Soi', ''], ['https://www.wikidata.org/wiki/Q733658', Clarisse, 'Poor Clares', 'Catholic order of convent nuns'], ['https://www.wikidata.org/wiki/Q3164791', Jean-Claude, 'Jean-Claude', 'male given name'], ['https://www.wikidata.org/wiki/Q3164791', Jean-Claude, 'Jean-Claude', 'male given name'], ['https://www.wikidata.org/wiki/Q3164791', Jean-Claude, 'Jean-Claude', 'male given name'], ['https://www.wikidata.org/wiki/Q180309', -, 'hyphen', 'punctuation mark used to join words'], ['https://www.wikidata.org/wiki/Q7813319', toi, 'Toi', 'name'], ['https://www.wikidata.org/wiki/Q2319007', Ave, 'Ave', 'Latin greeting, meaning \"hail\" or \"be well\"'], ['https://www.wikidata.org/wiki/Q519034', Rose, 'Aurora', \"title character from Disney's 1959 animated film Sleeping Beauty\"], ['https://www.wikidata.org/wiki/Q5280186', freres, 'Dirck Ferreris', 'Dutch painter'], ['https://www.wikidata.org/wiki/Q19414112', Vive, 'HTC Vive', 'virtual reality headset produced by HTC and Valve'], ['https://www.wikidata.org/wiki/Q519034', Rose, 'Aurora', \"title character from Disney's 1959 animated film Sleeping Beauty\"], ['https://www.wikidata.org/wiki/Q3164791', Jean-Claude, 'Jean-Claude', 'male given name'], ['https://www.wikidata.org/wiki/Q519034', Rose, 'Aurora', \"title character from Disney's 1959 animated film Sleeping Beauty\"], ['https://www.wikidata.org/wiki/Q111', mars, 'Mars', 'fourth planet from the Sun'], ['https://www.wikidata.org/wiki/Q519034', Rose, 'Aurora', \"title character from Disney's 1959 animated film Sleeping Beauty\"], ['https://www.wikidata.org/wiki/Q90', Paris, 'Paris', 'capital and largest city of France'], ['https://www.wikidata.org/wiki/Q90', Paris, 'Paris', 'capital and largest city of France'], ['https://www.wikidata.org/wiki/Q733658', Clarisse, 'Poor Clares', 'Catholic order of convent nuns'], ['https://www.wikidata.org/wiki/Q180309', -, 'hyphen', 'punctuation mark used to join words'], ['https://www.wikidata.org/wiki/Q2102344', Royal, 'Koninklijk', 'honorary title for companies and organizations in Belgium and the Netherlands'], ['https://www.wikidata.org/wiki/Q3164791', Jean-Claude, 'Jean-Claude', 'male given name'], ['https://www.wikidata.org/wiki/Q180309', -, 'hyphen', 'punctuation mark used to join words'], ['https://www.wikidata.org/wiki/Q2102344', Royal, 'Koninklijk', 'honorary title for companies and organizations in Belgium and the Netherlands'], ['https://www.wikidata.org/wiki/Q90', Paris, 'Paris', 'capital and largest city of France'], ['https://www.wikidata.org/wiki/Q3164791', Jean-Claude, 'Jean-Claude', 'male given name'], ['https://www.wikidata.org/wiki/Q3072544', Parisiens, 'Les parisiens', '2004 film by Claude Lelouch'], ['https://www.wikidata.org/wiki/Q180309', -, 'hyphen', 'punctuation mark used to join words'], ['https://www.wikidata.org/wiki/Q1336814', Morlincourt, 'Morlincourt', 'commune in Oise, France'], ['https://www.wikidata.org/wiki/Q160669', M, 'Mach number', 'ratio of speed of object moving through fluid and speed of sound'], ['https://www.wikidata.org/wiki/Q663187', Est, \"Chemins de fer de l'Est\", 'pre-nationalisation railway company in Eastern France (1845–1937)'], ['https://www.wikidata.org/wiki/Q3164791', Jean-Claude, 'Jean-Claude', 'male given name'], ['https://www.wikidata.org/wiki/Q3164791', Jean-Claude, 'Jean-Claude', 'male given name'], ['https://www.wikidata.org/wiki/Q3164791', Jean-Claude, 'Jean-Claude', 'male given name'], ['https://www.wikidata.org/wiki/Q5181875', Cran, 'Cran', 'unit of measure'], ['https://www.wikidata.org/wiki/Q388242', tete, 'Tete', 'city in Mozambique'], ['https://www.wikidata.org/wiki/Q519034', Rose, 'Aurora', \"title character from Disney's 1959 animated film Sleeping Beauty\"], ['https://www.wikidata.org/wiki/Q519034', Rose, 'Aurora', \"title character from Disney's 1959 animated film Sleeping Beauty\"], ['https://www.wikidata.org/wiki/Q519034', Rose, 'Aurora', \"title character from Disney's 1959 animated film Sleeping Beauty\"], ['https://www.wikidata.org/wiki/Q347', li, 'Liechtenstein', 'principality in western-central Europe'], ['https://www.wikidata.org/wiki/Q519034', Rose, 'Aurora', \"title character from Disney's 1959 animated film Sleeping Beauty\"], ['https://www.wikidata.org/wiki/Q3184003', pays, 'Pays', ''], ['https://www.wikidata.org/wiki/Q180309', -, 'hyphen', 'punctuation mark used to join words'], ['https://www.wikidata.org/wiki/Q519034', Rose, 'Aurora', \"title character from Disney's 1959 animated film Sleeping Beauty\"], ['https://www.wikidata.org/wiki/Q3027560', Dieu, 'Dieu', 'book by Victor Hugo'], ['https://www.wikidata.org/wiki/Q519034', Rose, 'Aurora', \"title character from Disney's 1959 animated film Sleeping Beauty\"], ['https://www.wikidata.org/wiki/Q388242', tete, 'Tete', 'city in Mozambique'], ['https://www.wikidata.org/wiki/Q1461413', moisson, 'Moisson', 'commune in Yvelines, France'], ['https://www.wikidata.org/wiki/Q519034', Rose, 'Aurora', \"title character from Disney's 1959 animated film Sleeping Beauty\"], ['https://www.wikidata.org/wiki/Q3164791', Jean-Claude, 'Jean-Claude', 'male given name'], ['https://www.wikidata.org/wiki/Q519034', Rose, 'Aurora', \"title character from Disney's 1959 animated film Sleeping Beauty\"], ['https://www.wikidata.org/wiki/Q3164791', Jean-Claude, 'Jean-Claude', 'male given name'], ['https://www.wikidata.org/wiki/Q90', Paris, 'Paris', 'capital and largest city of France'], ['https://www.wikidata.org/wiki/Q9887', A, 'Α', 'letter of the Greek alphabet'], ['https://www.wikidata.org/wiki/Q12661', Nord, 'Nord', 'French department'], ['https://www.wikidata.org/wiki/Q12661', Nord, 'Nord', 'French department'], ['https://www.wikidata.org/wiki/Q3164791', Jean-Claude, 'Jean-Claude', 'male given name'], ['https://www.wikidata.org/wiki/Q90', Paris, 'Paris', 'capital and largest city of France'], ['https://www.wikidata.org/wiki/Q3164791', Jean-Claude, 'Jean-Claude', 'male given name'], ['https://www.wikidata.org/wiki/Q519034', Rose, 'Aurora', \"title character from Disney's 1959 animated film Sleeping Beauty\"], ['https://www.wikidata.org/wiki/Q3164791', Jean-Claude, 'Jean-Claude', 'male given name'], ['https://www.wikidata.org/wiki/Q519034', Rose, 'Aurora', \"title character from Disney's 1959 animated film Sleeping Beauty\"], ['https://www.wikidata.org/wiki/Q160669', M, 'Mach number', 'ratio of speed of object moving through fluid and speed of sound'], ['https://www.wikidata.org/wiki/Q1461413', moisson, 'Moisson', 'commune in Yvelines, France'], ['https://www.wikidata.org/wiki/Q90', Paris, 'Paris', 'capital and largest city of France'], ['https://www.wikidata.org/wiki/Q9325', lh, 'Lufthansa', 'German flag-carrier Airline'], ['https://www.wikidata.org/wiki/Q180309', -, 'hyphen', 'punctuation mark used to join words']]\n"
     ]
    },
    {
     "ename": "JSONDecodeError",
     "evalue": "Expecting value: line 3 column 5 (char 10)",
     "output_type": "error",
     "traceback": [
      "\u001b[0;31m---------------------------------------------------------------------------\u001b[0m",
      "\u001b[0;31mJSONDecodeError\u001b[0m                           Traceback (most recent call last)",
      "\u001b[0;32m/tmp/ipykernel_13870/3223997579.py\u001b[0m in \u001b[0;36m<module>\u001b[0;34m\u001b[0m\n\u001b[1;32m      7\u001b[0m     \u001b[0;32mwith\u001b[0m \u001b[0mopen\u001b[0m\u001b[0;34m(\u001b[0m\u001b[0mfichier\u001b[0m\u001b[0;34m,\u001b[0m \u001b[0;34m\"r\"\u001b[0m\u001b[0;34m,\u001b[0m \u001b[0mencoding\u001b[0m\u001b[0;34m=\u001b[0m\u001b[0;34m'UTF-8'\u001b[0m\u001b[0;34m)\u001b[0m \u001b[0;32mas\u001b[0m \u001b[0mf\u001b[0m\u001b[0;34m:\u001b[0m\u001b[0;34m\u001b[0m\u001b[0;34m\u001b[0m\u001b[0m\n\u001b[1;32m      8\u001b[0m \u001b[0;34m\u001b[0m\u001b[0m\n\u001b[0;32m----> 9\u001b[0;31m         \u001b[0mdata\u001b[0m \u001b[0;34m=\u001b[0m \u001b[0mjson\u001b[0m\u001b[0;34m.\u001b[0m\u001b[0mload\u001b[0m\u001b[0;34m(\u001b[0m\u001b[0mf\u001b[0m\u001b[0;34m)\u001b[0m\u001b[0;34m\u001b[0m\u001b[0;34m\u001b[0m\u001b[0m\n\u001b[0m\u001b[1;32m     10\u001b[0m         \u001b[0mnewdata\u001b[0m \u001b[0;34m=\u001b[0m \u001b[0mjson\u001b[0m\u001b[0;34m.\u001b[0m\u001b[0mdumps\u001b[0m\u001b[0;34m(\u001b[0m\u001b[0mdata\u001b[0m\u001b[0;34m)\u001b[0m\u001b[0;34m\u001b[0m\u001b[0;34m\u001b[0m\u001b[0m\n\u001b[1;32m     11\u001b[0m     \u001b[0;31m# Application de la fonction transformer()\u001b[0m\u001b[0;34m\u001b[0m\u001b[0;34m\u001b[0m\u001b[0m\n",
      "\u001b[0;32m~/anaconda3/lib/python3.9/json/__init__.py\u001b[0m in \u001b[0;36mload\u001b[0;34m(fp, cls, object_hook, parse_float, parse_int, parse_constant, object_pairs_hook, **kw)\u001b[0m\n\u001b[1;32m    291\u001b[0m     \u001b[0mkwarg\u001b[0m\u001b[0;34m;\u001b[0m \u001b[0motherwise\u001b[0m\u001b[0;31m \u001b[0m\u001b[0;31m`\u001b[0m\u001b[0;31m`\u001b[0m\u001b[0mJSONDecoder\u001b[0m\u001b[0;31m`\u001b[0m\u001b[0;31m`\u001b[0m \u001b[0;32mis\u001b[0m \u001b[0mused\u001b[0m\u001b[0;34m.\u001b[0m\u001b[0;34m\u001b[0m\u001b[0;34m\u001b[0m\u001b[0m\n\u001b[1;32m    292\u001b[0m     \"\"\"\n\u001b[0;32m--> 293\u001b[0;31m     return loads(fp.read(),\n\u001b[0m\u001b[1;32m    294\u001b[0m         \u001b[0mcls\u001b[0m\u001b[0;34m=\u001b[0m\u001b[0mcls\u001b[0m\u001b[0;34m,\u001b[0m \u001b[0mobject_hook\u001b[0m\u001b[0;34m=\u001b[0m\u001b[0mobject_hook\u001b[0m\u001b[0;34m,\u001b[0m\u001b[0;34m\u001b[0m\u001b[0;34m\u001b[0m\u001b[0m\n\u001b[1;32m    295\u001b[0m         \u001b[0mparse_float\u001b[0m\u001b[0;34m=\u001b[0m\u001b[0mparse_float\u001b[0m\u001b[0;34m,\u001b[0m \u001b[0mparse_int\u001b[0m\u001b[0;34m=\u001b[0m\u001b[0mparse_int\u001b[0m\u001b[0;34m,\u001b[0m\u001b[0;34m\u001b[0m\u001b[0;34m\u001b[0m\u001b[0m\n",
      "\u001b[0;32m~/anaconda3/lib/python3.9/json/__init__.py\u001b[0m in \u001b[0;36mloads\u001b[0;34m(s, cls, object_hook, parse_float, parse_int, parse_constant, object_pairs_hook, **kw)\u001b[0m\n\u001b[1;32m    344\u001b[0m             \u001b[0mparse_int\u001b[0m \u001b[0;32mis\u001b[0m \u001b[0;32mNone\u001b[0m \u001b[0;32mand\u001b[0m \u001b[0mparse_float\u001b[0m \u001b[0;32mis\u001b[0m \u001b[0;32mNone\u001b[0m \u001b[0;32mand\u001b[0m\u001b[0;34m\u001b[0m\u001b[0;34m\u001b[0m\u001b[0m\n\u001b[1;32m    345\u001b[0m             parse_constant is None and object_pairs_hook is None and not kw):\n\u001b[0;32m--> 346\u001b[0;31m         \u001b[0;32mreturn\u001b[0m \u001b[0m_default_decoder\u001b[0m\u001b[0;34m.\u001b[0m\u001b[0mdecode\u001b[0m\u001b[0;34m(\u001b[0m\u001b[0ms\u001b[0m\u001b[0;34m)\u001b[0m\u001b[0;34m\u001b[0m\u001b[0;34m\u001b[0m\u001b[0m\n\u001b[0m\u001b[1;32m    347\u001b[0m     \u001b[0;32mif\u001b[0m \u001b[0mcls\u001b[0m \u001b[0;32mis\u001b[0m \u001b[0;32mNone\u001b[0m\u001b[0;34m:\u001b[0m\u001b[0;34m\u001b[0m\u001b[0;34m\u001b[0m\u001b[0m\n\u001b[1;32m    348\u001b[0m         \u001b[0mcls\u001b[0m \u001b[0;34m=\u001b[0m \u001b[0mJSONDecoder\u001b[0m\u001b[0;34m\u001b[0m\u001b[0;34m\u001b[0m\u001b[0m\n",
      "\u001b[0;32m~/anaconda3/lib/python3.9/json/decoder.py\u001b[0m in \u001b[0;36mdecode\u001b[0;34m(self, s, _w)\u001b[0m\n\u001b[1;32m    335\u001b[0m \u001b[0;34m\u001b[0m\u001b[0m\n\u001b[1;32m    336\u001b[0m         \"\"\"\n\u001b[0;32m--> 337\u001b[0;31m         \u001b[0mobj\u001b[0m\u001b[0;34m,\u001b[0m \u001b[0mend\u001b[0m \u001b[0;34m=\u001b[0m \u001b[0mself\u001b[0m\u001b[0;34m.\u001b[0m\u001b[0mraw_decode\u001b[0m\u001b[0;34m(\u001b[0m\u001b[0ms\u001b[0m\u001b[0;34m,\u001b[0m \u001b[0midx\u001b[0m\u001b[0;34m=\u001b[0m\u001b[0m_w\u001b[0m\u001b[0;34m(\u001b[0m\u001b[0ms\u001b[0m\u001b[0;34m,\u001b[0m \u001b[0;36m0\u001b[0m\u001b[0;34m)\u001b[0m\u001b[0;34m.\u001b[0m\u001b[0mend\u001b[0m\u001b[0;34m(\u001b[0m\u001b[0;34m)\u001b[0m\u001b[0;34m)\u001b[0m\u001b[0;34m\u001b[0m\u001b[0;34m\u001b[0m\u001b[0m\n\u001b[0m\u001b[1;32m    338\u001b[0m         \u001b[0mend\u001b[0m \u001b[0;34m=\u001b[0m \u001b[0m_w\u001b[0m\u001b[0;34m(\u001b[0m\u001b[0ms\u001b[0m\u001b[0;34m,\u001b[0m \u001b[0mend\u001b[0m\u001b[0;34m)\u001b[0m\u001b[0;34m.\u001b[0m\u001b[0mend\u001b[0m\u001b[0;34m(\u001b[0m\u001b[0;34m)\u001b[0m\u001b[0;34m\u001b[0m\u001b[0;34m\u001b[0m\u001b[0m\n\u001b[1;32m    339\u001b[0m         \u001b[0;32mif\u001b[0m \u001b[0mend\u001b[0m \u001b[0;34m!=\u001b[0m \u001b[0mlen\u001b[0m\u001b[0;34m(\u001b[0m\u001b[0ms\u001b[0m\u001b[0;34m)\u001b[0m\u001b[0;34m:\u001b[0m\u001b[0;34m\u001b[0m\u001b[0;34m\u001b[0m\u001b[0m\n",
      "\u001b[0;32m~/anaconda3/lib/python3.9/json/decoder.py\u001b[0m in \u001b[0;36mraw_decode\u001b[0;34m(self, s, idx)\u001b[0m\n\u001b[1;32m    353\u001b[0m             \u001b[0mobj\u001b[0m\u001b[0;34m,\u001b[0m \u001b[0mend\u001b[0m \u001b[0;34m=\u001b[0m \u001b[0mself\u001b[0m\u001b[0;34m.\u001b[0m\u001b[0mscan_once\u001b[0m\u001b[0;34m(\u001b[0m\u001b[0ms\u001b[0m\u001b[0;34m,\u001b[0m \u001b[0midx\u001b[0m\u001b[0;34m)\u001b[0m\u001b[0;34m\u001b[0m\u001b[0;34m\u001b[0m\u001b[0m\n\u001b[1;32m    354\u001b[0m         \u001b[0;32mexcept\u001b[0m \u001b[0mStopIteration\u001b[0m \u001b[0;32mas\u001b[0m \u001b[0merr\u001b[0m\u001b[0;34m:\u001b[0m\u001b[0;34m\u001b[0m\u001b[0;34m\u001b[0m\u001b[0m\n\u001b[0;32m--> 355\u001b[0;31m             \u001b[0;32mraise\u001b[0m \u001b[0mJSONDecodeError\u001b[0m\u001b[0;34m(\u001b[0m\u001b[0;34m\"Expecting value\"\u001b[0m\u001b[0;34m,\u001b[0m \u001b[0ms\u001b[0m\u001b[0;34m,\u001b[0m \u001b[0merr\u001b[0m\u001b[0;34m.\u001b[0m\u001b[0mvalue\u001b[0m\u001b[0;34m)\u001b[0m \u001b[0;32mfrom\u001b[0m \u001b[0;32mNone\u001b[0m\u001b[0;34m\u001b[0m\u001b[0;34m\u001b[0m\u001b[0m\n\u001b[0m\u001b[1;32m    356\u001b[0m         \u001b[0;32mreturn\u001b[0m \u001b[0mobj\u001b[0m\u001b[0;34m,\u001b[0m \u001b[0mend\u001b[0m\u001b[0;34m\u001b[0m\u001b[0;34m\u001b[0m\u001b[0m\n",
      "\u001b[0;31mJSONDecodeError\u001b[0m: Expecting value: line 3 column 5 (char 10)"
     ]
    }
   ],
   "source": [
    "\n",
    "def stocker(chemin, contenu):\n",
    "    with open(chemin, \"w\", encoding='UTF-8') as fichier:\n",
    "        json.dump(contenu, fichier, indent=2)\n",
    "path_corpora = \"../DATA/DATA-Fra_spaCy3.3.1_CONCAT/ADAM/ADAM_krakenbase/ADAM_MOD/*.json\"\n",
    "\n",
    "for fichier in glob.glob(path_corpora):\n",
    "    with open(fichier, \"r\", encoding='UTF-8') as f:\n",
    "    \n",
    "        data = json.load(f)\n",
    "        newdata = json.dumps(data)\n",
    "    # Application de la fonction transformer()\n",
    "        #print(newdata)\n",
    "        resultats = transformer(newdata)\n",
    "        \n",
    "        # Affichage des résultats ou sauvegarde dans un fichier, etc.\n",
    "    print(resultats)\n",
    "    \n",
    "    #stocker(path_corpora, resultats)\n",
    "    "
   ]
  },
  {
   "cell_type": "code",
   "execution_count": 36,
   "id": "344d24eb",
   "metadata": {},
   "outputs": [
    {
     "name": "stdout",
     "output_type": "stream",
     "text": [
      "SUBCORPUS*** ../DATA/DATA-Fra_spaCy3.3.1_CONCAT/ADAM/ADAM_krakenbase/ADAM_MOD/ADAM_Mon-village_Kraken-base_txt_spacy-sm-concat.json\n",
      "SUBCORPUS*** ../DATA/DATA-Fra_spaCy3.3.1_CONCAT/ADAM/ADAM_krakenbase/ADAM_MOD/*.json\n",
      "SUBCORPUS*** ../DATA/DATA-Fra_spaCy3.3.1_CONCAT/ADAM/ADAM_krakenbase/ADAM_MOD/ADAM_Mon-village_Kraken-base.txt_spacy-lg.json\n",
      "SUBCORPUS*** ../DATA/DATA-Fra_spaCy3.3.1_CONCAT/ADAM/ADAM_krakenbase/ADAM_MOD/ADAM_Mon-village_Kraken-base.txt_spacy-sm.json\n",
      "SUBCORPUS*** ../DATA/DATA-Fra_spaCy3.3.1_CONCAT/ADAM/ADAM_krakenbase/ADAM_MOD/ADAM_Mon-village_Kraken-base.txt_spacy-md.json\n",
      "SUBCORPUS*** ../DATA/DATA-Fra_spaCy3.3.1_CONCAT/ADAM/ADAM_krakenbase/ADAM_MOD/ADAM_Mon-village_Kraken-base_txt_spacy-lg-concat.json\n",
      "SUBCORPUS*** ../DATA/DATA-Fra_spaCy3.3.1_CONCAT/ADAM/ADAM_krakenbase/ADAM_MOD/ADAM_Mon-village_Kraken-base_txt_spacy-md-concat.json\n"
     ]
    }
   ],
   "source": [
    "path_corpora = \"../DATA/DATA-Fra_spaCy3.3.1_CONCAT/ADAM/ADAM_krakenbase/ADAM_MOD/*.json\"\n",
    "#path_corpora = \"../DATA/corpora_SPACY2.3.5_CLUSTER/DAUDET/DAUDET_kraken-base\"\n",
    "for subcorpus in glob.glob(path_corpora):\n",
    "    print(\"SUBCORPUS***\",subcorpus)\n",
    "    liste_nom_fichier =[]\n",
    "    for path in glob.glob(\"%s/DAUDET_MOD/*lg_spacy.json-concat.json\"%subcorpus):\n",
    "        print(\"PATH*****\",path)\n",
    "        \n",
    "        nom_fichier = nomfichier(path)\n",
    "        print(nom_fichier)\n",
    "        liste=lire_fichier(path)"
   ]
  },
  {
   "cell_type": "code",
   "execution_count": null,
   "id": "09fb9e6c",
   "metadata": {},
   "outputs": [],
   "source": []
  }
 ],
 "metadata": {
  "kernelspec": {
   "display_name": "Python 3 (ipykernel)",
   "language": "python",
   "name": "python3"
  },
  "language_info": {
   "codemirror_mode": {
    "name": "ipython",
    "version": 3
   },
   "file_extension": ".py",
   "mimetype": "text/x-python",
   "name": "python",
   "nbconvert_exporter": "python",
   "pygments_lexer": "ipython3",
   "version": "3.9.7"
  }
 },
 "nbformat": 4,
 "nbformat_minor": 5
}
