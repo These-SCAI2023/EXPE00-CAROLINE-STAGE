{
 "cells": [
  {
   "cell_type": "markdown",
   "id": "394c5bd3",
   "metadata": {},
   "source": [
    "du 22/03/2023\n",
    "notebook 3\n",
    "objectif : mettre au propre les tests réalisés lors de la réunion du 22 mars 2023, \n"
   ]
  },
  {
   "cell_type": "markdown",
   "id": "20b3f5c6",
   "metadata": {},
   "source": [
    "# Test du sytème d'entity linking de Spacy"
   ]
  },
  {
   "cell_type": "markdown",
   "id": "5477fd1e",
   "metadata": {},
   "source": [
    "Ce notebook est la version après correction de entitylinker20230313.ipynb.\n",
    "création : 22/03/2023\n",
    "dernière modification : 22/03/2023"
   ]
  },
  {
   "cell_type": "markdown",
   "id": "1a0ef10b",
   "metadata": {},
   "source": [
    "Lors de la réunion du 21 mars 2023, Gaël Lejeune, Caroline Parfait et moi-même avons discuté des difficultés rencontrées pour l'enregistrement des sorties au format JSON. Cette difficulté est liée au format particulier des EntityCollection. \n",
    "\n",
    "création : 22/03/2023\n",
    "dernière modification : 22/03/2023"
   ]
  },
  {
   "cell_type": "code",
   "execution_count": 1,
   "id": "68d62737",
   "metadata": {},
   "outputs": [
    {
     "name": "stderr",
     "output_type": "stream",
     "text": [
      "/home/obtic2023/anaconda3/lib/python3.9/site-packages/torch/cuda/__init__.py:52: UserWarning: CUDA initialization: Found no NVIDIA driver on your system. Please check that you have an NVIDIA GPU and installed a driver from http://www.nvidia.com/Download/index.aspx (Triggered internally at  /pytorch/c10/cuda/CUDAFunctions.cpp:100.)\n",
      "  return torch._C._cuda_getDeviceCount() > 0\n"
     ]
    },
    {
     "data": {
      "text/plain": [
       "<spacy_entity_linker.EntityLinker.EntityLinker at 0x7f11cfffd940>"
      ]
     },
     "execution_count": 1,
     "metadata": {},
     "output_type": "execute_result"
    }
   ],
   "source": [
    "import json\n",
    "import spacy  # version 3.5\n",
    "\n",
    "# initialize language model\n",
    "nlp = spacy.load(\"fr_core_news_lg\")\n",
    "\n",
    "# add pipeline (declared through entry_points in setup.py)\n",
    "nlp.add_pipe(\"entityLinker\", last=True)\n"
   ]
  },
  {
   "cell_type": "code",
   "execution_count": 2,
   "id": "edd88d27",
   "metadata": {},
   "outputs": [
    {
     "ename": "FileNotFoundError",
     "evalue": "[Errno 2] No such file or directory: '../DATA/DATA-Fra_spaCy3.3.1_CONCAT/ADAM/ADAM_krakenbase/ADAM_MOD/ADAM_Mon-village_Kraken-base.txt_spacy-lg.json'",
     "output_type": "error",
     "traceback": [
      "\u001b[0;31m---------------------------------------------------------------------------\u001b[0m",
      "\u001b[0;31mFileNotFoundError\u001b[0m                         Traceback (most recent call last)",
      "\u001b[0;32m/tmp/ipykernel_8419/1783623617.py\u001b[0m in \u001b[0;36m<module>\u001b[0;34m\u001b[0m\n\u001b[0;32m----> 1\u001b[0;31m \u001b[0;32mwith\u001b[0m \u001b[0mopen\u001b[0m\u001b[0;34m(\u001b[0m\u001b[0;34m'../DATA/DATA-Fra_spaCy3.3.1_CONCAT/ADAM/ADAM_krakenbase/ADAM_MOD/ADAM_Mon-village_Kraken-base.txt_spacy-lg.json'\u001b[0m\u001b[0;34m,\u001b[0m\u001b[0;34m'r'\u001b[0m\u001b[0;34m,\u001b[0m \u001b[0mencoding\u001b[0m\u001b[0;34m=\u001b[0m\u001b[0;34m'UTF-8'\u001b[0m\u001b[0;34m)\u001b[0m \u001b[0;32mas\u001b[0m \u001b[0mf\u001b[0m\u001b[0;34m:\u001b[0m\u001b[0;34m\u001b[0m\u001b[0;34m\u001b[0m\u001b[0m\n\u001b[0m\u001b[1;32m      2\u001b[0m     \u001b[0mdata\u001b[0m \u001b[0;34m=\u001b[0m \u001b[0mjson\u001b[0m\u001b[0;34m.\u001b[0m\u001b[0mload\u001b[0m\u001b[0;34m(\u001b[0m\u001b[0mf\u001b[0m\u001b[0;34m)\u001b[0m\u001b[0;34m\u001b[0m\u001b[0;34m\u001b[0m\u001b[0m\n\u001b[1;32m      3\u001b[0m \u001b[0mdoc\u001b[0m \u001b[0;34m=\u001b[0m \u001b[0mnlp\u001b[0m\u001b[0;34m(\u001b[0m\u001b[0mjson\u001b[0m\u001b[0;34m.\u001b[0m\u001b[0mdumps\u001b[0m\u001b[0;34m(\u001b[0m\u001b[0mdata\u001b[0m\u001b[0;34m)\u001b[0m\u001b[0;34m)\u001b[0m\u001b[0;34m\u001b[0m\u001b[0;34m\u001b[0m\u001b[0m\n\u001b[1;32m      4\u001b[0m \u001b[0;34m\u001b[0m\u001b[0m\n\u001b[1;32m      5\u001b[0m \u001b[0;34m\u001b[0m\u001b[0m\n",
      "\u001b[0;31mFileNotFoundError\u001b[0m: [Errno 2] No such file or directory: '../DATA/DATA-Fra_spaCy3.3.1_CONCAT/ADAM/ADAM_krakenbase/ADAM_MOD/ADAM_Mon-village_Kraken-base.txt_spacy-lg.json'"
     ]
    }
   ],
   "source": [
    "with open('../DATA/DATA-Fra_spaCy3.3.1_CONCAT/ADAM/ADAM_krakenbase/ADAM_MOD/ADAM_Mon-village_Kraken-base.txt_spacy-lg.json','r', encoding='UTF-8') as f:\n",
    "    data = json.load(f)\n",
    "doc = nlp(json.dumps(data))\n",
    "\n",
    "\n",
    "#returns all entities in the whole document\n",
    "\n",
    "all_linked_entities = doc._.linkedEntities\n",
    "#iterates over sentences and prints linked entities\n",
    "for sent in doc.sents:\n",
    "    sent._.linkedEntities.pretty_print()"
   ]
  },
  {
   "cell_type": "code",
   "execution_count": 32,
   "id": "de055fa6",
   "metadata": {},
   "outputs": [
    {
     "name": "stdout",
     "output_type": "stream",
     "text": [
      "Help on EntityCollection in module spacy_entity_linker.EntityCollection object:\n",
      "\n",
      "class EntityCollection(builtins.object)\n",
      " |  EntityCollection(entities=[])\n",
      " |  \n",
      " |  Methods defined here:\n",
      " |  \n",
      " |  __getitem__(self, item)\n",
      " |  \n",
      " |  __init__(self, entities=[])\n",
      " |      Initialize self.  See help(type(self)) for accurate signature.\n",
      " |  \n",
      " |  __iter__(self)\n",
      " |  \n",
      " |  __len__(self)\n",
      " |  \n",
      " |  __repr__(self) -> str\n",
      " |      Return repr(self).\n",
      " |  \n",
      " |  append(self, entity)\n",
      " |  \n",
      " |  get_categories(self, max_depth=1)\n",
      " |  \n",
      " |  get_distinct_categories(self, max_depth=1)\n",
      " |  \n",
      " |  grouped_by_super_entities(self, max_depth=1)\n",
      " |  \n",
      " |  pretty_print(self)\n",
      " |  \n",
      " |  print_super_entities(self, max_depth=1, limit=10)\n",
      " |  \n",
      " |  ----------------------------------------------------------------------\n",
      " |  Data descriptors defined here:\n",
      " |  \n",
      " |  __dict__\n",
      " |      dictionary for instance variables (if defined)\n",
      " |  \n",
      " |  __weakref__\n",
      " |      list of weak references to the object (if defined)\n",
      "\n"
     ]
    }
   ],
   "source": [
    "    help(sent._.linkedEntities)"
   ]
  },
  {
   "cell_type": "code",
   "execution_count": 33,
   "id": "69cb9746",
   "metadata": {},
   "outputs": [
    {
     "name": "stdout",
     "output_type": "stream",
     "text": [
      "<bound method EntityCollection.__getitem__ of <EntityCollection (48 entities):\n",
      "-https://www.wikidata.org/wiki/Q3518248 lune                      shape                                             \n",
      "-https://www.wikidata.org/wiki/Q741536 Dizy                      commune in Marne, France                          \n",
      "-https://www.wikidata.org/wiki/Q741536 Dizy                      commune in Marne, France                          \n",
      "-https://www.wikidata.org/wiki/Q741536 Dizy                      commune in Marne, France                          \n",
      "-https://www.wikidata.org/wiki/Q1063745 Chemin                    commune in Jura, France                           \n",
      "-https://www.wikidata.org/wiki/Q180309 hyphen                    punctuation mark used to join words               \n",
      "-https://www.wikidata.org/wiki/Q741536 Dizy                      commune in Marne, France                          \n",
      "-https://www.wikidata.org/wiki/Q388242 Tete                      city in Mozambique                                \n",
      "-https://www.wikidata.org/wiki/Q180309 hyphen                    punctuation mark used to join words               \n",
      "-https://www.wikidata.org/wiki/Q465227 The Village               2004 American psychological horror film directed by M. Night Shyamalan\n",
      "-https://www.wikidata.org/wiki/Q733658 Poor Clares               Catholic order of convent nuns                    \n",
      "-https://www.wikidata.org/wiki/Q4897398 bete                      traditional type of priest in Fiji                \n",
      "-https://www.wikidata.org/wiki/Q82794 geographic region         2D or 3D defined space, mainly in terrestrial and astrophysics sciences\n",
      "-https://www.wikidata.org/wiki/Q90 Paris                     capital and largest city of France                \n",
      "-https://www.wikidata.org/wiki/Q2707807 Océan                     French 120-gun three-decker ship of the line      \n",
      "-https://www.wikidata.org/wiki/Q7557553 Soleil                    Australian skyscraper                             \n",
      "-https://www.wikidata.org/wiki/Q1234920 Colonne                   commune in Jura, France                           \n",
      "-https://www.wikidata.org/wiki/Q90 Paris                     capital and largest city of France                \n",
      "-https://www.wikidata.org/wiki/Q733658 Poor Clares               Catholic order of convent nuns                    \n",
      "-https://www.wikidata.org/wiki/Q733658 Poor Clares               Catholic order of convent nuns                    \n",
      "-https://www.wikidata.org/wiki/Q180309 hyphen                    punctuation mark used to join words               \n",
      "...28 more>>\n"
     ]
    }
   ],
   "source": [
    "    print(sent._.linkedEntities.__getitem__)"
   ]
  },
  {
   "cell_type": "code",
   "execution_count": 34,
   "id": "efc37385",
   "metadata": {},
   "outputs": [
    {
     "name": "stdout",
     "output_type": "stream",
     "text": [
      "Help on method __getitem__ in module spacy_entity_linker.EntityCollection:\n",
      "\n",
      "__getitem__(item) method of spacy_entity_linker.EntityCollection.EntityCollection instance\n",
      "\n",
      "None\n"
     ]
    }
   ],
   "source": [
    "    print(help(sent._.linkedEntities.__getitem__))\n",
    "    "
   ]
  },
  {
   "cell_type": "code",
   "execution_count": 35,
   "id": "656bf26c",
   "metadata": {},
   "outputs": [
    {
     "name": "stdout",
     "output_type": "stream",
     "text": [
      "Help on EntityCollection in module spacy_entity_linker.EntityCollection object:\n",
      "\n",
      "class EntityCollection(builtins.object)\n",
      " |  EntityCollection(entities=[])\n",
      " |  \n",
      " |  Methods defined here:\n",
      " |  \n",
      " |  __getitem__(self, item)\n",
      " |  \n",
      " |  __init__(self, entities=[])\n",
      " |      Initialize self.  See help(type(self)) for accurate signature.\n",
      " |  \n",
      " |  __iter__(self)\n",
      " |  \n",
      " |  __len__(self)\n",
      " |  \n",
      " |  __repr__(self) -> str\n",
      " |      Return repr(self).\n",
      " |  \n",
      " |  append(self, entity)\n",
      " |  \n",
      " |  get_categories(self, max_depth=1)\n",
      " |  \n",
      " |  get_distinct_categories(self, max_depth=1)\n",
      " |  \n",
      " |  grouped_by_super_entities(self, max_depth=1)\n",
      " |  \n",
      " |  pretty_print(self)\n",
      " |  \n",
      " |  print_super_entities(self, max_depth=1, limit=10)\n",
      " |  \n",
      " |  ----------------------------------------------------------------------\n",
      " |  Data descriptors defined here:\n",
      " |  \n",
      " |  __dict__\n",
      " |      dictionary for instance variables (if defined)\n",
      " |  \n",
      " |  __weakref__\n",
      " |      list of weak references to the object (if defined)\n",
      "\n"
     ]
    }
   ],
   "source": [
    "    help( sent._.linkedEntities)"
   ]
  },
  {
   "cell_type": "code",
   "execution_count": 36,
   "id": "e6a599f6",
   "metadata": {},
   "outputs": [],
   "source": [
    "liste_ent=[]\n",
    "for ent in  doc._.linkedEntities: \n",
    "    span = ent.get_span()\n",
    "    "
   ]
  },
  {
   "cell_type": "code",
   "execution_count": 37,
   "id": "1f0718a0",
   "metadata": {},
   "outputs": [
    {
     "name": "stdout",
     "output_type": "stream",
     "text": [
      "\n"
     ]
    }
   ],
   "source": [
    "    print(ent.get_description())"
   ]
  },
  {
   "cell_type": "code",
   "execution_count": 38,
   "id": "fb27b735",
   "metadata": {},
   "outputs": [
    {
     "name": "stdout",
     "output_type": "stream",
     "text": [
      "Chapeau\n"
     ]
    }
   ],
   "source": [
    "    print(ent.get_label())"
   ]
  },
  {
   "cell_type": "code",
   "execution_count": 39,
   "id": "efe09161",
   "metadata": {},
   "outputs": [
    {
     "name": "stdout",
     "output_type": "stream",
     "text": [
      "1185 1186 chapeau\n"
     ]
    }
   ],
   "source": [
    "    print(span.start, span.end, span.text)"
   ]
  },
  {
   "cell_type": "code",
   "execution_count": 40,
   "id": "44e2d643",
   "metadata": {},
   "outputs": [],
   "source": [
    "    liste_ent.append(ent.get_description())"
   ]
  },
  {
   "cell_type": "code",
   "execution_count": 41,
   "id": "bdf8d705",
   "metadata": {},
   "outputs": [],
   "source": [
    "with open('output_file.json', 'w', encoding='utf-8') as f:\n",
    "    json.dump(liste_ent, f, ensure_ascii=False, indent=4)"
   ]
  },
  {
   "cell_type": "code",
   "execution_count": 42,
   "id": "c1953c30",
   "metadata": {
    "scrolled": true
   },
   "outputs": [
    {
     "name": "stdout",
     "output_type": "stream",
     "text": [
      "[('Norine', 'LOC', ''), ('Ha-\\\\nM1ON', 'PER', ''), ('Frotte', 'LOC', ''), ('Norine', 'LOC', ''), ('Saint-Brunelle', 'LOC', ''), ('Rose', 'MISC', ''), ('Desirde', 'MISC', ''), ('Norine', 'LOC', ''), ('Garde-les', 'LOC', ''), ('Norine', 'LOC', ''), ('rabotee', 'LOC', ''), ('Rosel', 'PER', ''), ('Dsirce', 'PER', ''), ('Norine', 'LOC', ''), ('Toinon', 'LOC', ''), ('MIais', 'MISC', ''), ('Lasl', 'LOC', ''), ('Lasl', 'LOC', ''), ('lembrassa', 'LOC', ''), ('Lasl', 'LOC', ''), ('Mlarie', 'LOC', ''), ('Ayez', 'LOC', ''), ('Saint-Quentin', 'LOC', ''), ('Norine', 'LOC', ''), ('I', 'LOC', ''), ('Armandine', 'PER', ''), ('Morlincourt', 'LOC', ''), ('Norine', 'LOC', ''), ('Mlor-\\\\nlincourt', 'LOC', ''), ('Morlincourt', 'LOC', ''), ('Morlin-', 'LOC', ''), ('Mlais', 'LOC', ''), ('Mlorlincourtl', 'PER', ''), ('Lasl', 'LOC', ''), ('Rose', 'LOC', ''), ('Jeacquet', 'LOC', ''), ('Norine', 'LOC', ''), ('Norine', 'LOC', ''), ('LL-.----------==-=x=-MON', 'LOC', ''), ('MIais', 'MISC', ''), ('Iais', 'LOC', ''), ('Norine', 'LOC', ''), ('Norine', 'LOC', ''), ('Norine', 'LOC', ''), ('Paris', 'LOC', ''), ('Morlincourt', 'LOC', ''), ('verildc', 'PER', ''), ('Morlincourt', 'LOC', ''), ('Norine', 'LOC', ''), ('Ouvrezl', 'LOC', ''), ('Fa-\\\\nvette', 'MISC', ''), ('Jeacquet', 'LOC', ''), ('Paris', 'LOC', ''), ('MIaria', 'MISC', ''), ('lille', 'LOC', ''), ('Savoyard', 'LOC', ''), ('Saint-Brunelle', 'LOC', ''), ('veillee.1', 'LOC', ''), ('beni', 'LOC', ''), ('Riez', 'LOC', ''), ('Saint-\\\\n', 'MISC', ''), ('S', 'MISC', ''), ('E\\\\u017fss', 'ORG', ''), ('Saint-Brunelle', 'LOC', ''), ('prechez', 'LOC', ''), ('Jeacquet', 'LOC', ''), ('Clarisse Manot', 'PER', ''), ('Saint-\\\\nBrunelle', 'LOC', ''), ('Clarisse', 'ORG', ''), ('Tache', 'LOC', ''), ('Manot', 'LOC', ''), ('Manot', 'LOC', ''), ('Manot', 'LOC', ''), ('Clarisse', 'ORG', ''), ('Clarisse', 'ORG', ''), ('Clarisse', 'ORG', ''), ('Alger', 'LOC', ''), ('Jeacquet', 'LOC', ''), ('Manot', 'LOC', ''), ('.e\\\\n', 'LOC', ''), ('E', 'LOC', ''), ('Norine', 'LOC', ''), ('Armandine', 'PER', ''), ('Norine', 'LOC', ''), ('Rose', 'LOC', ''), ('Norine', 'LOC', ''), ('Norine', 'LOC', ''), ('Norine', 'LOC', ''), ('Norine', 'LOC', ''), ('Norine', 'LOC', ''), ('Morlincourt', 'LOC', ''), ('Saint-Brunelle', 'LOC', ''), ('Sainte-Radegonde', 'LOC', ''), ('Toinon', 'LOC', ''), ('Norine', 'LOC', ''), ('Norine', 'LOC', ''), ('Toinon', 'LOC', ''), ('Toinon', 'LOC', ''), ('Toinon', 'LOC', ''), ('blme', 'PER', ''), ('B', 'LOC', ''), ('Morlinval', 'LOC', ''), ('Toinon', 'LOC', ''), ('UN REVENANT3-\\\\nN1II\\\\nUN EVENANT', 'ORG', ''), ('Brugnon', 'PER', ''), ('Saint-Brunelle', 'LOC', ''), ('Brugnon', 'PER', ''), ('Brugnon', 'PER', ''), ('Brugnon', 'PER', ''), ('Perpetue', 'LOC', ''), ('Saint-\\\\nBrunelle', 'LOC', ''), ('Dizy', 'LOC', ''), ('Dizy', 'LOC', ''), ('Dizy', 'LOC', ''), ('MIais', 'MISC', ''), ('Poulains', 'LOC', ''), ('Perpelue', 'LOC', ''), ('Garnissons', 'MISC', ''), ('Norine', 'LOC', ''), ('Norine', 'LOC', ''), ('Norine', 'LOC', ''), ('Dizy', 'LOC', ''), ('Clarisse\\\\nManot', 'ORG', ''), ('Clarisse', 'ORG', ''), ('Norine', 'LOC', ''), ('MI0N', 'LOC', ''), ('Roseet', 'LOC', ''), ('Norine', 'LOC', ''), ('Paris', 'LOC', ''), ('Mlais', 'LOC', ''), ('Vend0me', 'LOC', ''), ('Paris', 'LOC', ''), ('Clarisse', 'ORG', ''), ('Clarisse', 'ORG', ''), ('Palais-Royal', 'LOC', ''), ('Royal', 'PER', ''), ('Paris', 'LOC', ''), ('MIais', 'MISC', ''), ('Parisien', 'LOC', ''), ('Parisiens', 'LOC', ''), ('Morlincourt', 'LOC', ''), ('Est', 'LOC', ''), ('la France', 'LOC', ''), ('Saint-Brunellel\\\\n', 'LOC', ''), ('Saint-Brunelle', 'LOC', ''), ('Rose', 'MISC', ''), ('Saint-Brunelle', 'LOC', ''), ('Rose', 'MISC', ''), ('Saint-Brunelle', 'LOC', ''), ('Lasl', 'LOC', ''), ('Berenice', 'PER', ''), ('du Nord', 'LOC', ''), ('Paris', 'LOC', ''), ('lFrance', 'MISC', ''), ('Nord', 'LOC', ''), ('Paris', 'LOC', '')]\n"
     ]
    }
   ],
   "source": [
    "ents = [(e.text, e.label_, e.kb_id_) for e in doc.ents]\n",
    "print(ents)  # [('Ada Lovelace', 'PERSON', 'Q7259'), ('London', 'GPE', 'Q84')]\n",
    "\n"
   ]
  },
  {
   "cell_type": "code",
   "execution_count": 43,
   "id": "1f679a5a",
   "metadata": {},
   "outputs": [
    {
     "name": "stdout",
     "output_type": "stream",
     "text": [
      "['[', '', '']\n",
      "['\"', '', '']\n",
      "['\"', '', '']\n"
     ]
    }
   ],
   "source": [
    "# Token level\n",
    "ent_ada_0 = [doc[0].text, doc[0].ent_type_, doc[0].ent_kb_id_]\n",
    "ent_ada_1 = [doc[1].text, doc[1].ent_type_, doc[1].ent_kb_id_]\n",
    "ent_london_5 = [doc[5].text, doc[5].ent_type_, doc[5].ent_kb_id_]\n",
    "print(ent_ada_0)  # ['Ada', 'PERSON', 'Q7259']\n",
    "print(ent_ada_1)  # ['Lovelace', 'PERSON', 'Q7259']\n",
    "print(ent_london_5)  # ['London', 'GPE', 'Q84']"
   ]
  },
  {
   "cell_type": "code",
   "execution_count": null,
   "id": "8141dc00",
   "metadata": {},
   "outputs": [],
   "source": []
  }
 ],
 "metadata": {
  "kernelspec": {
   "display_name": "Python 3 (ipykernel)",
   "language": "python",
   "name": "python3"
  },
  "language_info": {
   "codemirror_mode": {
    "name": "ipython",
    "version": 3
   },
   "file_extension": ".py",
   "mimetype": "text/x-python",
   "name": "python",
   "nbconvert_exporter": "python",
   "pygments_lexer": "ipython3",
   "version": "3.9.7"
  }
 },
 "nbformat": 4,
 "nbformat_minor": 5
}
