{
 "cells": [
  {
   "cell_type": "markdown",
   "id": "f2ddb502",
   "metadata": {},
   "source": [
    "du 23/03/2023\n",
    "notebook 4\n",
    "objectif : faire un code pour comparer les résultats de l'entity linker \n"
   ]
  },
  {
   "cell_type": "markdown",
   "id": "f8beac85",
   "metadata": {},
   "source": [
    "# Test du sytème d'entity linking de Spacy"
   ]
  },
  {
   "cell_type": "markdown",
   "id": "8a0181b6",
   "metadata": {},
   "source": [
    "Tel que suggéré par mon tuteur, j'ai extrait du corpus des passages bruités contenants des entités nommées. J'ai ensuite proposé une version corrigée de ce texte. J'ai ensuite enregistré ces extraits dans des variables afin de comparer les résultats de l'entityLinker entre la version océrisée du texte et la version corrigée afin de connaitre l'influence du bruit d'OCR sur la NER et EL."
   ]
  },
  {
   "cell_type": "markdown",
   "id": "7a477266",
   "metadata": {},
   "source": [
    "Pour faire cela, je reprends le mêmes étapes que précédemment"
   ]
  },
  {
   "cell_type": "code",
   "execution_count": 10,
   "id": "186d1239",
   "metadata": {},
   "outputs": [
    {
     "data": {
      "text/plain": [
       "<spacy_entity_linker.EntityLinker.EntityLinker at 0x211f49341f0>"
      ]
     },
     "execution_count": 10,
     "metadata": {},
     "output_type": "execute_result"
    }
   ],
   "source": [
    "import spacy  # version 3.5\n",
    "# initialize language model\n",
    "nlp = spacy.load(\"fr_core_news_lg\")\n",
    "\n",
    "# add pipeline (declared through entry_points in setup.py)\n",
    "nlp.add_pipe(\"entityLinker\", last=True)"
   ]
  },
  {
   "cell_type": "code",
   "execution_count": 11,
   "id": "8d8d68d5",
   "metadata": {},
   "outputs": [],
   "source": [
    "def read (texte):\n",
    "    doc = nlp(texte)\n",
    "# returns all entities in the whole document\n",
    "    all_linked_entities = doc._.linkedEntities\n",
    "# iterates over sentences and prints linked entities\n",
    "    for sent in doc.sents:\n",
    "        sent._.linkedEntities.pretty_print()"
   ]
  },
  {
   "cell_type": "markdown",
   "id": "d42d9878",
   "metadata": {},
   "source": [
    "## texte 1"
   ]
  },
  {
   "cell_type": "markdown",
   "id": "edc8a061",
   "metadata": {},
   "source": [
    "### texte océrisé"
   ]
  },
  {
   "cell_type": "raw",
   "id": "1f262dc3",
   "metadata": {},
   "source": [
    "Ahl je crois bien, dirent les bonnets\n",
    "blancs, les jeunes gars et les vieux hommes,\n",
    "ca ne fait point de doute h Saint-BrunellelPRIERE ET S0UHAITS\n",
    "t\n",
    "PRILRL ET S0UIIAITS\n",
    "RIERE."
   ]
  },
  {
   "cell_type": "code",
   "execution_count": 12,
   "id": "b7563b46",
   "metadata": {},
   "outputs": [],
   "source": [
    "a=\"Ah je crois bien, dirent les bonnets blancs, les jeunes gars et les vieux hommes,ca ne fait point de doute h Saint-BrunellelPRIERE ET S0UHAITSt PRILRL ET S0UIIAITS RIERE.\""
   ]
  },
  {
   "cell_type": "code",
   "execution_count": 13,
   "id": "42a0c072",
   "metadata": {},
   "outputs": [
    {
     "name": "stdout",
     "output_type": "stream",
     "text": [
      "<EntityElement: https://www.wikidata.org/wiki/Q531813 Gars                      municipality of Germany                           >\n",
      "<EntityElement: https://www.wikidata.org/wiki/Q548924 Hommes                    commune in Indre-et-Loire, France                 >\n",
      "<EntityElement: https://www.wikidata.org/wiki/Q156389 point                     measurement unit used in typography               >\n",
      "<EntityElement: https://www.wikidata.org/wiki/Q122894 Planck constant           physical constant representing the quantum of action>\n"
     ]
    }
   ],
   "source": [
    "read(a)"
   ]
  },
  {
   "cell_type": "markdown",
   "id": "94b4153b",
   "metadata": {},
   "source": [
    "### texte corrigé"
   ]
  },
  {
   "cell_type": "code",
   "execution_count": null,
   "id": "eda0b64f",
   "metadata": {},
   "outputs": [],
   "source": [
    "Ah je crois bien, dirent les bonnets\n",
    "blancs, les jeunes gars et les vieux hommes,\n",
    "ça ne fait point de doute à Saint-Brunelle \n",
    "PRIÈRE ET S0UHAITS\n",
    "PRIÈRE ET S0UHAITS\n",
    "PRIERE."
   ]
  },
  {
   "cell_type": "code",
   "execution_count": 6,
   "id": "a974b370",
   "metadata": {},
   "outputs": [],
   "source": [
    "b=\"Ah je crois bien, dirent les bonnets blancs, les jeunes gars et les vieux hommes, ça ne fait point de doute à Saint-Brunelle PRIÈRE ET S0UHAITS PRIÈRE ET S0UHAITS PRIERE.\""
   ]
  },
  {
   "cell_type": "code",
   "execution_count": 14,
   "id": "16818199",
   "metadata": {},
   "outputs": [
    {
     "name": "stdout",
     "output_type": "stream",
     "text": [
      "<EntityElement: https://www.wikidata.org/wiki/Q531813 Gars                      municipality of Germany                           >\n",
      "<EntityElement: https://www.wikidata.org/wiki/Q548924 Hommes                    commune in Indre-et-Loire, France                 >\n",
      "<EntityElement: https://www.wikidata.org/wiki/Q156389 point                     measurement unit used in typography               >\n"
     ]
    }
   ],
   "source": [
    "read(b)"
   ]
  },
  {
   "cell_type": "markdown",
   "id": "d93f7854",
   "metadata": {},
   "source": [
    "## texte 2"
   ]
  },
  {
   "cell_type": "markdown",
   "id": "33da29cc",
   "metadata": {},
   "source": [
    "### texte océrisé"
   ]
  },
  {
   "cell_type": "raw",
   "id": "75768ec6",
   "metadata": {},
   "source": [
    "De plus, je me vois force de vous re-\n",
    "mercier de vos grandes patiences h lire\n",
    "mes moulages, et, lh-dessusAotyde-\n",
    "E.:c\n",
    "fuble mon chapeau.\n",
    "Wotre ami,\n",
    "-5. -\n",
    ",\n",
    "L\n",
    "FRUCTUBUx CBLLIER."
   ]
  },
  {
   "cell_type": "code",
   "execution_count": 15,
   "id": "87921020",
   "metadata": {},
   "outputs": [],
   "source": [
    "c =\"De plus, je me vois force de vous re-mercier de vos grandes patiences h lire mes moulages, et, lh-dessus Aotyde-E.:cfuble mon chapeau.Wotre ami,-5. -LFRUCTUBUx CBLLIER.\""
   ]
  },
  {
   "cell_type": "code",
   "execution_count": 16,
   "id": "523fb3e4",
   "metadata": {},
   "outputs": [
    {
     "name": "stdout",
     "output_type": "stream",
     "text": [
      "<EntityElement: https://www.wikidata.org/wiki/Q11402 force                     influence that causes an object to change motion  >\n",
      "<EntityElement: https://www.wikidata.org/wiki/Q122894 Planck constant           physical constant representing the quantum of action>\n",
      "<EntityElement: https://www.wikidata.org/wiki/Q1062645 Chapeau                                                                     >\n"
     ]
    }
   ],
   "source": [
    "read (c)"
   ]
  },
  {
   "cell_type": "markdown",
   "id": "8bcf8874",
   "metadata": {},
   "source": [
    "## texte 3"
   ]
  },
  {
   "cell_type": "markdown",
   "id": "544df392",
   "metadata": {},
   "source": [
    "### texte océrisé"
   ]
  },
  {
   "cell_type": "raw",
   "id": "ddb45531",
   "metadata": {},
   "source": [
    "La d6solation de la desolation, l'epidemie\n",
    "est h Saint-Brunellel\n",
    "- (Qu'une bonne ame aille chercher le me-\n",
    "decin, redit Jean-Claude d'une voix de mou-\n",
    "rant.\n",
    "(\n",
    "LEPIDEMIIE\n",
    "--LXII\n",
    "L EPIDEMI1E\n",
    "- Cette bonne ame-l, ca sera moi, Cel-\n",
    "lier, que je repondis a Jean-Claude.\n",
    "Arrive h Morlincourt, devant la porte dc\n",
    "M. Ceran, je m'arrete afin de pcnser enmoi-\n",
    "meme comment je dois m'y prendre pour faire\n",
    "ma commissio.\n",
    "MI. Ceran va encore se metlre en colere;\n",
    "comme de raison, tous les ans,  pareille\n",
    "epoque, il jette la pierre aux franciers.\n",
    "t\n",
    "A l'aventure  faut se dcider.\n",
    "---------.192"
   ]
  },
  {
   "cell_type": "code",
   "execution_count": 3,
   "id": "4af91ead",
   "metadata": {},
   "outputs": [
    {
     "name": "stdout",
     "output_type": "stream",
     "text": [
      "<EntityElement: https://www.wikidata.org/wiki/Q1632158 Napoléon                  1927 film by Abel Gance                           >\n",
      "<EntityElement: https://www.wikidata.org/wiki/Q157521 Charles Lucien Bonaparte  French biologist                                  >\n"
     ]
    }
   ],
   "source": [
    "import spacy  # version 3.5\n",
    "\n",
    "# initialize language model\n",
    "nlp = spacy.load(\"fr_core_news_lg\")\n",
    "\n",
    "# add pipeline (declared through entry_points in setup.py)\n",
    "nlp.add_pipe(\"entityLinker\", last=True)\n",
    "\n",
    "doc = nlp(b)\n",
    "doc2 = nlp(\"Napoléon Bonaparte a envahit la Russie en 1812\")\n",
    "\n",
    "# returns all entities in the whole document\n",
    "all_linked_entities = doc._.linkedEntities\n",
    "# iterates over sentences and prints linked entities\n",
    "for sent in doc2.sents:\n",
    "    sent._.linkedEntities.pretty_print()"
   ]
  },
  {
   "cell_type": "code",
   "execution_count": 4,
   "id": "5418910f",
   "metadata": {},
   "outputs": [
    {
     "name": "stdout",
     "output_type": "stream",
     "text": [
      "<EntityElement: https://www.wikidata.org/wiki/Q531813 Gars                      municipality of Germany                           >\n",
      "<EntityElement: https://www.wikidata.org/wiki/Q548924 Hommes                    commune in Indre-et-Loire, France                 >\n",
      "<EntityElement: https://www.wikidata.org/wiki/Q156389 point                     measurement unit used in typography               >\n"
     ]
    }
   ],
   "source": []
  },
  {
   "cell_type": "code",
   "execution_count": null,
   "id": "b6b72e94",
   "metadata": {},
   "outputs": [],
   "source": []
  }
 ],
 "metadata": {
  "kernelspec": {
   "display_name": "Python 3 (ipykernel)",
   "language": "python",
   "name": "python3"
  },
  "language_info": {
   "codemirror_mode": {
    "name": "ipython",
    "version": 3
   },
   "file_extension": ".py",
   "mimetype": "text/x-python",
   "name": "python",
   "nbconvert_exporter": "python",
   "pygments_lexer": "ipython3",
   "version": "3.9.7"
  }
 },
 "nbformat": 4,
 "nbformat_minor": 5
}
