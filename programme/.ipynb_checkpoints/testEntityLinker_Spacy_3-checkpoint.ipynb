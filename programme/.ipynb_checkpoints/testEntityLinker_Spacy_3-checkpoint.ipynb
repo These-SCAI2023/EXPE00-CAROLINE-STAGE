{
 "cells": [
  {
   "cell_type": "markdown",
   "id": "394c5bd3",
   "metadata": {},
   "source": [
    "du 22/03/2023\n",
    "notebook 3\n",
    "objectif : mettre au propre les tests réalisés lors de la réunion du 22 mars 2023, \n"
   ]
  },
  {
   "cell_type": "markdown",
   "id": "20b3f5c6",
   "metadata": {},
   "source": [
    "# Test du sytème d'entity linking de Spacy"
   ]
  },
  {
   "cell_type": "markdown",
   "id": "5477fd1e",
   "metadata": {},
   "source": [
    "Ce notebook est la version après correction de entitylinker20230313.ipynb.\n",
    "création : 22/03/2023\n",
    "dernière modification : 22/03/2023"
   ]
  },
  {
   "cell_type": "markdown",
   "id": "1a0ef10b",
   "metadata": {},
   "source": [
    "Lors de la réunion du 21 mars 2023, Gaël Lejeune, Caroline Parfait et moi-même avons discuté des difficultés rencontrées pour l'enregistrement des sorties au format JSON. Cette difficulté est liée au format particulier des EntityCollection. \n",
    "\n",
    "création : 22/03/2023\n",
    "dernière modification : 22/03/2023"
   ]
  },
  {
   "cell_type": "code",
   "execution_count": 1,
   "id": "68d62737",
   "metadata": {},
   "outputs": [
    {
     "name": "stderr",
     "output_type": "stream",
     "text": [
      "/home/obtic2023/anaconda3/lib/python3.9/site-packages/torch/cuda/__init__.py:52: UserWarning: CUDA initialization: Found no NVIDIA driver on your system. Please check that you have an NVIDIA GPU and installed a driver from http://www.nvidia.com/Download/index.aspx (Triggered internally at  /pytorch/c10/cuda/CUDAFunctions.cpp:100.)\n",
      "  return torch._C._cuda_getDeviceCount() > 0\n"
     ]
    },
    {
     "data": {
      "text/plain": [
       "<spacy_entity_linker.EntityLinker.EntityLinker at 0x7f38efa25040>"
      ]
     },
     "execution_count": 1,
     "metadata": {},
     "output_type": "execute_result"
    }
   ],
   "source": [
    "import json\n",
    "import spacy  # version 3.5\n",
    "\n",
    "# initialize language model\n",
    "nlp = spacy.load(\"fr_core_news_lg\")\n",
    "\n",
    "# add pipeline (declared through entry_points in setup.py)\n",
    "nlp.add_pipe(\"entityLinker\", last=True)\n"
   ]
  },
  {
   "cell_type": "code",
   "execution_count": 2,
   "id": "edd88d27",
   "metadata": {},
   "outputs": [
    {
     "name": "stdout",
     "output_type": "stream",
     "text": [
      "<EntityElement: https://www.wikidata.org/wiki/Q519034 Aurora                    title character from Disney's 1959 animated film Sleeping Beauty>\n",
      "<EntityElement: https://www.wikidata.org/wiki/Q160669 Mach number               ratio of speed of object moving through fluid and speed of sound>\n",
      "<EntityElement: https://www.wikidata.org/wiki/Q4398011 Ruselectronics                                                              >\n",
      "<EntityElement: https://www.wikidata.org/wiki/Q6521101 Lembrassa                 British lingerie and swimwear                     >\n",
      "<EntityElement: https://www.wikidata.org/wiki/Q182744 Saint-Quentin             commune in Aisne, France                          >\n",
      "<EntityElement: https://www.wikidata.org/wiki/Q1103 iodine                    chemical element with the atomic number of 53     >\n",
      "<EntityElement: https://www.wikidata.org/wiki/Q1336814 Morlincourt               commune in Oise, France                           >\n",
      "<EntityElement: https://www.wikidata.org/wiki/Q1336814 Morlincourt               commune in Oise, France                           >\n",
      "<EntityElement: https://www.wikidata.org/wiki/Q883068 Eil                       city quarter no. 705 of Cologne, Germany          >\n",
      "<EntityElement: https://www.wikidata.org/wiki/Q2948542 champ                     Irish dish                                        >\n",
      "<EntityElement: https://www.wikidata.org/wiki/Q1045 Somalia                   federal republic in Africa                        >\n",
      "<EntityElement: https://www.wikidata.org/wiki/Q465227 The Village               2004 American psychological horror film directed by M. Night Shyamalan>\n",
      "<EntityElement: https://www.wikidata.org/wiki/Q519034 Aurora                    title character from Disney's 1959 animated film Sleeping Beauty>\n",
      "<EntityElement: https://www.wikidata.org/wiki/Q191118 tonne                     metric unit of mass                               >\n",
      "<EntityElement: https://www.wikidata.org/wiki/Q7559 dragon                    legendary creature                                >\n",
      "<EntityElement: https://www.wikidata.org/wiki/Q90 Paris                     capital and largest city of France                >\n",
      "<EntityElement: https://www.wikidata.org/wiki/Q1336814 Morlincourt               commune in Oise, France                           >\n",
      "<EntityElement: https://www.wikidata.org/wiki/Q1784692 Salete                    human settlement in Brazil                        >\n",
      "<EntityElement: https://www.wikidata.org/wiki/Q1336814 Morlincourt               commune in Oise, France                           >\n",
      "<EntityElement: https://www.wikidata.org/wiki/Q230100 Tip of the tongue         phenomenon of failing to retrieve a word from memory, combined with partial recall and the feeling t>\n",
      "<EntityElement: https://www.wikidata.org/wiki/Q191118 tonne                     metric unit of mass                               >\n",
      "<EntityElement: https://www.wikidata.org/wiki/Q90 Paris                     capital and largest city of France                >\n",
      "<EntityElement: https://www.wikidata.org/wiki/Q19516 Lille OSC                 French association football club                  >\n",
      "<EntityElement: https://www.wikidata.org/wiki/Q175753 Cordier                   family name                                       >\n",
      "<EntityElement: https://www.wikidata.org/wiki/Q4978987 Brunelle                  family name                                       >\n",
      "<EntityElement: https://www.wikidata.org/wiki/Q233169 Beni Department           department of Bolivia                             >\n",
      "<EntityElement: https://www.wikidata.org/wiki/Q457002 Riez                      commune in Alpes-de-Haute-Provence, France        >\n",
      "<EntityElement: https://www.wikidata.org/wiki/Q2308437 Yeniseysk Airport         airport in Russia                                 >\n",
      "<EntityElement: https://www.wikidata.org/wiki/Q9852 R                         letter of the Latin alphabet                      >\n",
      "<EntityElement: https://www.wikidata.org/wiki/Q7545706 Smith–Mundt Act                                                             >\n",
      "<EntityElement: https://www.wikidata.org/wiki/Q682 sulfur                    element with the atomic number of 16              >\n",
      "<EntityElement: https://www.wikidata.org/wiki/Q403166 Ai                        Canaanite royal city                              >\n",
      "<EntityElement: https://www.wikidata.org/wiki/Q733658 Poor Clares               Catholic order of convent nuns                    >\n",
      "<EntityElement: https://www.wikidata.org/wiki/Q2777738 Manot                     human settlement in Israel                        >\n",
      "<EntityElement: https://www.wikidata.org/wiki/Q733658 Poor Clares               Catholic order of convent nuns                    >\n",
      "<EntityElement: https://www.wikidata.org/wiki/Q1661655 Taché                     rural municipality in Manitoba, Canada            >\n",
      "<EntityElement: https://www.wikidata.org/wiki/Q2777738 Manot                     human settlement in Israel                        >\n",
      "<EntityElement: https://www.wikidata.org/wiki/Q2777738 Manot                     human settlement in Israel                        >\n",
      "<EntityElement: https://www.wikidata.org/wiki/Q2777738 Manot                     human settlement in Israel                        >\n",
      "<EntityElement: https://www.wikidata.org/wiki/Q733658 Poor Clares               Catholic order of convent nuns                    >\n",
      "<EntityElement: https://www.wikidata.org/wiki/Q733658 Poor Clares               Catholic order of convent nuns                    >\n",
      "<EntityElement: https://www.wikidata.org/wiki/Q1996116 On Tour                   2010 film by Mathieu Amalric                      >\n",
      "<EntityElement: https://www.wikidata.org/wiki/Q733658 Poor Clares               Catholic order of convent nuns                    >\n",
      "<EntityElement: https://www.wikidata.org/wiki/Q3561 Algiers                   capital city of Algeria                           >\n",
      "<EntityElement: https://www.wikidata.org/wiki/Q2777738 Manot                     human settlement in Israel                        >\n",
      "<EntityElement: https://www.wikidata.org/wiki/Q403 Serbia                    republic in Southeastern Europe                   >\n",
      "<EntityElement: https://www.wikidata.org/wiki/Q19876921 Peet                      Australian real estate development company        >\n",
      "<EntityElement: https://www.wikidata.org/wiki/Q82435 e                         mathematical constant                             >\n",
      "<EntityElement: https://www.wikidata.org/wiki/Q191 Estonia                   republic in Northern Europe                       >\n",
      "<EntityElement: https://www.wikidata.org/wiki/Q82435 e                         mathematical constant                             >\n",
      "<EntityElement: https://www.wikidata.org/wiki/Q82435 e                         mathematical constant                             >\n",
      "<EntityElement: https://www.wikidata.org/wiki/Q17070 Réunion                   island in the Indian Ocean, overseas region of France>\n",
      "<EntityElement: https://www.wikidata.org/wiki/Q82435 e                         mathematical constant                             >\n",
      "<EntityElement: https://www.wikidata.org/wiki/Q82435 e                         mathematical constant                             >\n",
      "<EntityElement: https://www.wikidata.org/wiki/Q180309 hyphen                    punctuation mark used to join words               >\n",
      "<EntityElement: https://www.wikidata.org/wiki/Q2091584 Young's modulus           mechanical property of linear elastic solid materials>\n",
      "<EntityElement: https://www.wikidata.org/wiki/Q9852 R                         letter of the Latin alphabet                      >\n",
      "<EntityElement: https://www.wikidata.org/wiki/Q191 Estonia                   republic in Northern Europe                       >\n",
      "<EntityElement: https://www.wikidata.org/wiki/Q2091584 Young's modulus           mechanical property of linear elastic solid materials>\n",
      "<EntityElement: https://www.wikidata.org/wiki/Q82435 e                         mathematical constant                             >\n",
      "<EntityElement: https://www.wikidata.org/wiki/Q779475 Network switching subsystem component of the Global System for Mobile Communications (GSM)>\n",
      "<EntityElement: https://www.wikidata.org/wiki/Q388242 Tete                      city in Mozambique                                >\n",
      "<EntityElement: https://www.wikidata.org/wiki/Q519034 Aurora                    title character from Disney's 1959 animated film Sleeping Beauty>\n",
      "<EntityElement: https://www.wikidata.org/wiki/Q41509 mole                      SI unit of substance amount, Avogadro's number of elementary entities>\n",
      "<EntityElement: https://www.wikidata.org/wiki/Q1336814 Morlincourt               commune in Oise, France                           >\n",
      "<EntityElement: https://www.wikidata.org/wiki/Q838235 Fontaine                  commune in Isère, France                          >\n",
      "<EntityElement: https://www.wikidata.org/wiki/Q581707 Sainte-Radegonde          commune in Gironde, France                        >\n",
      "<EntityElement: https://www.wikidata.org/wiki/Q16827591 BLME                                                                        >\n",
      "<EntityElement: https://www.wikidata.org/wiki/Q618 boron                     chemical element with the atomic number of 5      >\n",
      "<EntityElement: https://www.wikidata.org/wiki/Q2351943 Voila                     album by Belinda Carlisle                         >\n",
      "<EntityElement: https://www.wikidata.org/wiki/Q3518248 lune                      shape                                             >\n",
      "<EntityElement: https://www.wikidata.org/wiki/Q741536 Dizy                      commune in Marne, France                          >\n",
      "<EntityElement: https://www.wikidata.org/wiki/Q741536 Dizy                      commune in Marne, France                          >\n",
      "<EntityElement: https://www.wikidata.org/wiki/Q741536 Dizy                      commune in Marne, France                          >\n",
      "<EntityElement: https://www.wikidata.org/wiki/Q1063745 Chemin                    commune in Jura, France                           >\n",
      "<EntityElement: https://www.wikidata.org/wiki/Q180309 hyphen                    punctuation mark used to join words               >\n",
      "<EntityElement: https://www.wikidata.org/wiki/Q741536 Dizy                      commune in Marne, France                          >\n",
      "<EntityElement: https://www.wikidata.org/wiki/Q388242 Tete                      city in Mozambique                                >\n",
      "<EntityElement: https://www.wikidata.org/wiki/Q180309 hyphen                    punctuation mark used to join words               >\n",
      "<EntityElement: https://www.wikidata.org/wiki/Q465227 The Village               2004 American psychological horror film directed by M. Night Shyamalan>\n",
      "<EntityElement: https://www.wikidata.org/wiki/Q733658 Poor Clares               Catholic order of convent nuns                    >\n",
      "<EntityElement: https://www.wikidata.org/wiki/Q4897398 bete                      traditional type of priest in Fiji                >\n",
      "<EntityElement: https://www.wikidata.org/wiki/Q82794 geographic region         2D or 3D defined space, mainly in terrestrial and astrophysics sciences>\n",
      "<EntityElement: https://www.wikidata.org/wiki/Q90 Paris                     capital and largest city of France                >\n",
      "<EntityElement: https://www.wikidata.org/wiki/Q2707807 Océan                     French 120-gun three-decker ship of the line      >\n",
      "<EntityElement: https://www.wikidata.org/wiki/Q7557553 Soleil                    Australian skyscraper                             >\n",
      "<EntityElement: https://www.wikidata.org/wiki/Q1234920 Colonne                   commune in Jura, France                           >\n",
      "<EntityElement: https://www.wikidata.org/wiki/Q90 Paris                     capital and largest city of France                >\n",
      "<EntityElement: https://www.wikidata.org/wiki/Q733658 Poor Clares               Catholic order of convent nuns                    >\n",
      "<EntityElement: https://www.wikidata.org/wiki/Q733658 Poor Clares               Catholic order of convent nuns                    >\n",
      "<EntityElement: https://www.wikidata.org/wiki/Q180309 hyphen                    punctuation mark used to join words               >\n",
      "<EntityElement: https://www.wikidata.org/wiki/Q2102344 Koninklijk                honorary title for companies and organizations in Belgium and the Netherlands>\n",
      "<EntityElement: https://www.wikidata.org/wiki/Q180309 hyphen                    punctuation mark used to join words               >\n",
      "<EntityElement: https://www.wikidata.org/wiki/Q2102344 Koninklijk                honorary title for companies and organizations in Belgium and the Netherlands>\n",
      "<EntityElement: https://www.wikidata.org/wiki/Q90 Paris                     capital and largest city of France                >\n",
      "<EntityElement: https://www.wikidata.org/wiki/Q3072544 Les parisiens             2004 film by Claude Lelouch                       >\n",
      "<EntityElement: https://www.wikidata.org/wiki/Q4897398 bete                      traditional type of priest in Fiji                >\n",
      "<EntityElement: https://www.wikidata.org/wiki/Q1336814 Morlincourt               commune in Oise, France                           >\n",
      "<EntityElement: https://www.wikidata.org/wiki/Q883068 Eil                       city quarter no. 705 of Cologne, Germany          >\n",
      "<EntityElement: https://www.wikidata.org/wiki/Q663187 Chemins de fer de l'Est   pre-nationalisation railway company in Eastern France (1845–1937)>\n",
      "<EntityElement: https://www.wikidata.org/wiki/Q142 France                    republic with mainland in Europe and numerous oversea territories>\n",
      "<EntityElement: https://www.wikidata.org/wiki/Q122894 Planck constant           physical constant representing the quantum of action>\n",
      "<EntityElement: https://www.wikidata.org/wiki/Q43115 saint                     one who has been recognized for having an exceptional degree of holiness, sanctity, and virtue>\n",
      "<EntityElement: https://www.wikidata.org/wiki/Q122894 Planck constant           physical constant representing the quantum of action>\n",
      "<EntityElement: https://www.wikidata.org/wiki/Q388242 Tete                      city in Mozambique                                >\n",
      "<EntityElement: https://www.wikidata.org/wiki/Q519034 Aurora                    title character from Disney's 1959 animated film Sleeping Beauty>\n",
      "<EntityElement: https://www.wikidata.org/wiki/Q519034 Aurora                    title character from Disney's 1959 animated film Sleeping Beauty>\n",
      "<EntityElement: https://www.wikidata.org/wiki/Q196653 Saint Veronica            Christian saint                                   >\n",
      "<EntityElement: https://www.wikidata.org/wiki/Q12661 Nord                      French department                                 >\n",
      "<EntityElement: https://www.wikidata.org/wiki/Q90 Paris                     capital and largest city of France                >\n",
      "<EntityElement: https://www.wikidata.org/wiki/Q13609402 Pou                       2012 video game                                   >\n",
      "<EntityElement: https://www.wikidata.org/wiki/Q180309 hyphen                    punctuation mark used to join words               >\n",
      "<EntityElement: https://www.wikidata.org/wiki/Q12661 Nord                      French department                                 >\n",
      "<EntityElement: https://www.wikidata.org/wiki/Q160070 negligence                failure to exercise the care that a reasonably prudent person would exercise in like circumstances>\n",
      "<EntityElement: https://www.wikidata.org/wiki/Q90 Paris                     capital and largest city of France                >\n",
      "<EntityElement: https://www.wikidata.org/wiki/Q9325 Lufthansa                 German flag-carrier Airline                       >\n",
      "<EntityElement: https://www.wikidata.org/wiki/Q180309 hyphen                    punctuation mark used to join words               >\n",
      "<EntityElement: https://www.wikidata.org/wiki/Q1062645 Chapeau                                                                     >\n"
     ]
    }
   ],
   "source": [
    "with open('../DATA/DATA-Fra_spaCy3.3.1_CONCAT/ADAM/ADAM_krakenbase/ADAM_MOD/ADAM_Mon-village_Kraken-base.txt_spacy-lg.json','r', encoding='UTF-8') as f:\n",
    "    data = json.load(f)\n",
    "doc = nlp(json.dumps(data))\n",
    "\n",
    "\n",
    "#returns all entities in the whole document\n",
    "\n",
    "all_linked_entities = doc._.linkedEntities\n",
    "#iterates over sentences and prints linked entities\n",
    "for sent in doc.sents:\n",
    "    sent._.linkedEntities.pretty_print()"
   ]
  },
  {
   "cell_type": "code",
   "execution_count": 3,
   "id": "de055fa6",
   "metadata": {},
   "outputs": [
    {
     "name": "stdout",
     "output_type": "stream",
     "text": [
      "Help on EntityCollection in module spacy_entity_linker.EntityCollection object:\n",
      "\n",
      "class EntityCollection(builtins.object)\n",
      " |  EntityCollection(entities=[])\n",
      " |  \n",
      " |  Methods defined here:\n",
      " |  \n",
      " |  __getitem__(self, item)\n",
      " |  \n",
      " |  __init__(self, entities=[])\n",
      " |      Initialize self.  See help(type(self)) for accurate signature.\n",
      " |  \n",
      " |  __iter__(self)\n",
      " |  \n",
      " |  __len__(self)\n",
      " |  \n",
      " |  __repr__(self) -> str\n",
      " |      Return repr(self).\n",
      " |  \n",
      " |  append(self, entity)\n",
      " |  \n",
      " |  get_categories(self, max_depth=1)\n",
      " |  \n",
      " |  get_distinct_categories(self, max_depth=1)\n",
      " |  \n",
      " |  grouped_by_super_entities(self, max_depth=1)\n",
      " |  \n",
      " |  pretty_print(self)\n",
      " |  \n",
      " |  print_super_entities(self, max_depth=1, limit=10)\n",
      " |  \n",
      " |  ----------------------------------------------------------------------\n",
      " |  Data descriptors defined here:\n",
      " |  \n",
      " |  __dict__\n",
      " |      dictionary for instance variables (if defined)\n",
      " |  \n",
      " |  __weakref__\n",
      " |      list of weak references to the object (if defined)\n",
      "\n"
     ]
    }
   ],
   "source": [
    "    help(sent._.linkedEntities)"
   ]
  },
  {
   "cell_type": "code",
   "execution_count": 4,
   "id": "69cb9746",
   "metadata": {},
   "outputs": [
    {
     "name": "stdout",
     "output_type": "stream",
     "text": [
      "<bound method EntityCollection.__getitem__ of <EntityCollection (48 entities):\n",
      "-https://www.wikidata.org/wiki/Q3518248 lune                      shape                                             \n",
      "-https://www.wikidata.org/wiki/Q741536 Dizy                      commune in Marne, France                          \n",
      "-https://www.wikidata.org/wiki/Q741536 Dizy                      commune in Marne, France                          \n",
      "-https://www.wikidata.org/wiki/Q741536 Dizy                      commune in Marne, France                          \n",
      "-https://www.wikidata.org/wiki/Q1063745 Chemin                    commune in Jura, France                           \n",
      "-https://www.wikidata.org/wiki/Q180309 hyphen                    punctuation mark used to join words               \n",
      "-https://www.wikidata.org/wiki/Q741536 Dizy                      commune in Marne, France                          \n",
      "-https://www.wikidata.org/wiki/Q388242 Tete                      city in Mozambique                                \n",
      "-https://www.wikidata.org/wiki/Q180309 hyphen                    punctuation mark used to join words               \n",
      "-https://www.wikidata.org/wiki/Q465227 The Village               2004 American psychological horror film directed by M. Night Shyamalan\n",
      "-https://www.wikidata.org/wiki/Q733658 Poor Clares               Catholic order of convent nuns                    \n",
      "-https://www.wikidata.org/wiki/Q4897398 bete                      traditional type of priest in Fiji                \n",
      "-https://www.wikidata.org/wiki/Q82794 geographic region         2D or 3D defined space, mainly in terrestrial and astrophysics sciences\n",
      "-https://www.wikidata.org/wiki/Q90 Paris                     capital and largest city of France                \n",
      "-https://www.wikidata.org/wiki/Q2707807 Océan                     French 120-gun three-decker ship of the line      \n",
      "-https://www.wikidata.org/wiki/Q7557553 Soleil                    Australian skyscraper                             \n",
      "-https://www.wikidata.org/wiki/Q1234920 Colonne                   commune in Jura, France                           \n",
      "-https://www.wikidata.org/wiki/Q90 Paris                     capital and largest city of France                \n",
      "-https://www.wikidata.org/wiki/Q733658 Poor Clares               Catholic order of convent nuns                    \n",
      "-https://www.wikidata.org/wiki/Q733658 Poor Clares               Catholic order of convent nuns                    \n",
      "-https://www.wikidata.org/wiki/Q180309 hyphen                    punctuation mark used to join words               \n",
      "...28 more>>\n"
     ]
    }
   ],
   "source": [
    "    print(sent._.linkedEntities.__getitem__)"
   ]
  },
  {
   "cell_type": "code",
   "execution_count": 5,
   "id": "efc37385",
   "metadata": {},
   "outputs": [
    {
     "name": "stdout",
     "output_type": "stream",
     "text": [
      "Help on method __getitem__ in module spacy_entity_linker.EntityCollection:\n",
      "\n",
      "__getitem__(item) method of spacy_entity_linker.EntityCollection.EntityCollection instance\n",
      "\n",
      "None\n"
     ]
    }
   ],
   "source": [
    "    print(help(sent._.linkedEntities.__getitem__))\n",
    "    "
   ]
  },
  {
   "cell_type": "code",
   "execution_count": 35,
   "id": "656bf26c",
   "metadata": {},
   "outputs": [
    {
     "name": "stdout",
     "output_type": "stream",
     "text": [
      "Help on EntityCollection in module spacy_entity_linker.EntityCollection object:\n",
      "\n",
      "class EntityCollection(builtins.object)\n",
      " |  EntityCollection(entities=[])\n",
      " |  \n",
      " |  Methods defined here:\n",
      " |  \n",
      " |  __getitem__(self, item)\n",
      " |  \n",
      " |  __init__(self, entities=[])\n",
      " |      Initialize self.  See help(type(self)) for accurate signature.\n",
      " |  \n",
      " |  __iter__(self)\n",
      " |  \n",
      " |  __len__(self)\n",
      " |  \n",
      " |  __repr__(self) -> str\n",
      " |      Return repr(self).\n",
      " |  \n",
      " |  append(self, entity)\n",
      " |  \n",
      " |  get_categories(self, max_depth=1)\n",
      " |  \n",
      " |  get_distinct_categories(self, max_depth=1)\n",
      " |  \n",
      " |  grouped_by_super_entities(self, max_depth=1)\n",
      " |  \n",
      " |  pretty_print(self)\n",
      " |  \n",
      " |  print_super_entities(self, max_depth=1, limit=10)\n",
      " |  \n",
      " |  ----------------------------------------------------------------------\n",
      " |  Data descriptors defined here:\n",
      " |  \n",
      " |  __dict__\n",
      " |      dictionary for instance variables (if defined)\n",
      " |  \n",
      " |  __weakref__\n",
      " |      list of weak references to the object (if defined)\n",
      "\n"
     ]
    }
   ],
   "source": [
    "    help( sent._.linkedEntities)"
   ]
  },
  {
   "cell_type": "code",
   "execution_count": 6,
   "id": "e6a599f6",
   "metadata": {},
   "outputs": [
    {
     "name": "stdout",
     "output_type": "stream",
     "text": [
      "Aurora\n",
      "Mach number\n",
      "Ruselectronics\n",
      "Lembrassa\n",
      "Saint-Quentin\n",
      "iodine\n",
      "Morlincourt\n",
      "Morlincourt\n",
      "Eil\n",
      "champ\n",
      "Somalia\n",
      "The Village\n",
      "Aurora\n",
      "tonne\n",
      "dragon\n",
      "Paris\n",
      "Morlincourt\n",
      "Salete\n",
      "Morlincourt\n",
      "Tip of the tongue\n",
      "tonne\n",
      "Paris\n",
      "Lille OSC\n",
      "Cordier\n",
      "Brunelle\n",
      "Beni Department\n",
      "Riez\n",
      "Yeniseysk Airport\n",
      "R\n",
      "Smith–Mundt Act\n",
      "sulfur\n",
      "Ai\n",
      "Poor Clares\n",
      "Manot\n",
      "Poor Clares\n",
      "Taché\n",
      "Manot\n",
      "Manot\n",
      "Manot\n",
      "Poor Clares\n",
      "Poor Clares\n",
      "On Tour\n",
      "Poor Clares\n",
      "Algiers\n",
      "Manot\n",
      "Serbia\n",
      "Peet\n",
      "e\n",
      "Estonia\n",
      "e\n",
      "e\n",
      "Réunion\n",
      "e\n",
      "e\n",
      "hyphen\n",
      "Young's modulus\n",
      "R\n",
      "Estonia\n",
      "Young's modulus\n",
      "e\n",
      "Network switching subsystem\n",
      "Tete\n",
      "Aurora\n",
      "mole\n",
      "Morlincourt\n",
      "Fontaine\n",
      "Sainte-Radegonde\n",
      "BLME\n",
      "boron\n",
      "Voila\n",
      "lune\n",
      "Dizy\n",
      "Dizy\n",
      "Dizy\n",
      "Chemin\n",
      "hyphen\n",
      "Dizy\n",
      "Tete\n",
      "hyphen\n",
      "The Village\n",
      "Poor Clares\n",
      "bete\n",
      "geographic region\n",
      "Paris\n",
      "Océan\n",
      "Soleil\n",
      "Colonne\n",
      "Paris\n",
      "Poor Clares\n",
      "Poor Clares\n",
      "hyphen\n",
      "Koninklijk\n",
      "hyphen\n",
      "Koninklijk\n",
      "Paris\n",
      "Les parisiens\n",
      "bete\n",
      "Morlincourt\n",
      "Eil\n",
      "Chemins de fer de l'Est\n",
      "France\n",
      "Planck constant\n",
      "saint\n",
      "Planck constant\n",
      "Tete\n",
      "Aurora\n",
      "Aurora\n",
      "Saint Veronica\n",
      "Nord\n",
      "Paris\n",
      "Pou\n",
      "hyphen\n",
      "Nord\n",
      "negligence\n",
      "Paris\n",
      "Lufthansa\n",
      "hyphen\n",
      "Chapeau\n"
     ]
    }
   ],
   "source": [
    "liste_ent=[]\n",
    "for ent in  doc._.linkedEntities: \n",
    "    span = ent.get_span()\n",
    "    print(ent.get_label())\n",
    "    "
   ]
  },
  {
   "cell_type": "code",
   "execution_count": 37,
   "id": "1f0718a0",
   "metadata": {},
   "outputs": [
    {
     "name": "stdout",
     "output_type": "stream",
     "text": [
      "\n"
     ]
    }
   ],
   "source": [
    "    print(ent.get_description())"
   ]
  },
  {
   "cell_type": "code",
   "execution_count": 38,
   "id": "fb27b735",
   "metadata": {},
   "outputs": [
    {
     "name": "stdout",
     "output_type": "stream",
     "text": [
      "Chapeau\n"
     ]
    }
   ],
   "source": [
    "    print(ent.get_label())"
   ]
  },
  {
   "cell_type": "code",
   "execution_count": 39,
   "id": "efe09161",
   "metadata": {},
   "outputs": [
    {
     "name": "stdout",
     "output_type": "stream",
     "text": [
      "1185 1186 chapeau\n"
     ]
    }
   ],
   "source": [
    "    print(span.start, span.end, span.text)"
   ]
  },
  {
   "cell_type": "code",
   "execution_count": 40,
   "id": "44e2d643",
   "metadata": {},
   "outputs": [],
   "source": [
    "    liste_ent.append(ent.get_description())"
   ]
  },
  {
   "cell_type": "code",
   "execution_count": 41,
   "id": "bdf8d705",
   "metadata": {},
   "outputs": [],
   "source": [
    "with open('output_file.json', 'w', encoding='utf-8') as f:\n",
    "    json.dump(liste_ent, f, ensure_ascii=False, indent=4)"
   ]
  },
  {
   "cell_type": "code",
   "execution_count": 42,
   "id": "c1953c30",
   "metadata": {
    "scrolled": true
   },
   "outputs": [
    {
     "name": "stdout",
     "output_type": "stream",
     "text": [
      "[('Norine', 'LOC', ''), ('Ha-\\\\nM1ON', 'PER', ''), ('Frotte', 'LOC', ''), ('Norine', 'LOC', ''), ('Saint-Brunelle', 'LOC', ''), ('Rose', 'MISC', ''), ('Desirde', 'MISC', ''), ('Norine', 'LOC', ''), ('Garde-les', 'LOC', ''), ('Norine', 'LOC', ''), ('rabotee', 'LOC', ''), ('Rosel', 'PER', ''), ('Dsirce', 'PER', ''), ('Norine', 'LOC', ''), ('Toinon', 'LOC', ''), ('MIais', 'MISC', ''), ('Lasl', 'LOC', ''), ('Lasl', 'LOC', ''), ('lembrassa', 'LOC', ''), ('Lasl', 'LOC', ''), ('Mlarie', 'LOC', ''), ('Ayez', 'LOC', ''), ('Saint-Quentin', 'LOC', ''), ('Norine', 'LOC', ''), ('I', 'LOC', ''), ('Armandine', 'PER', ''), ('Morlincourt', 'LOC', ''), ('Norine', 'LOC', ''), ('Mlor-\\\\nlincourt', 'LOC', ''), ('Morlincourt', 'LOC', ''), ('Morlin-', 'LOC', ''), ('Mlais', 'LOC', ''), ('Mlorlincourtl', 'PER', ''), ('Lasl', 'LOC', ''), ('Rose', 'LOC', ''), ('Jeacquet', 'LOC', ''), ('Norine', 'LOC', ''), ('Norine', 'LOC', ''), ('LL-.----------==-=x=-MON', 'LOC', ''), ('MIais', 'MISC', ''), ('Iais', 'LOC', ''), ('Norine', 'LOC', ''), ('Norine', 'LOC', ''), ('Norine', 'LOC', ''), ('Paris', 'LOC', ''), ('Morlincourt', 'LOC', ''), ('verildc', 'PER', ''), ('Morlincourt', 'LOC', ''), ('Norine', 'LOC', ''), ('Ouvrezl', 'LOC', ''), ('Fa-\\\\nvette', 'MISC', ''), ('Jeacquet', 'LOC', ''), ('Paris', 'LOC', ''), ('MIaria', 'MISC', ''), ('lille', 'LOC', ''), ('Savoyard', 'LOC', ''), ('Saint-Brunelle', 'LOC', ''), ('veillee.1', 'LOC', ''), ('beni', 'LOC', ''), ('Riez', 'LOC', ''), ('Saint-\\\\n', 'MISC', ''), ('S', 'MISC', ''), ('E\\\\u017fss', 'ORG', ''), ('Saint-Brunelle', 'LOC', ''), ('prechez', 'LOC', ''), ('Jeacquet', 'LOC', ''), ('Clarisse Manot', 'PER', ''), ('Saint-\\\\nBrunelle', 'LOC', ''), ('Clarisse', 'ORG', ''), ('Tache', 'LOC', ''), ('Manot', 'LOC', ''), ('Manot', 'LOC', ''), ('Manot', 'LOC', ''), ('Clarisse', 'ORG', ''), ('Clarisse', 'ORG', ''), ('Clarisse', 'ORG', ''), ('Alger', 'LOC', ''), ('Jeacquet', 'LOC', ''), ('Manot', 'LOC', ''), ('.e\\\\n', 'LOC', ''), ('E', 'LOC', ''), ('Norine', 'LOC', ''), ('Armandine', 'PER', ''), ('Norine', 'LOC', ''), ('Rose', 'LOC', ''), ('Norine', 'LOC', ''), ('Norine', 'LOC', ''), ('Norine', 'LOC', ''), ('Norine', 'LOC', ''), ('Norine', 'LOC', ''), ('Morlincourt', 'LOC', ''), ('Saint-Brunelle', 'LOC', ''), ('Sainte-Radegonde', 'LOC', ''), ('Toinon', 'LOC', ''), ('Norine', 'LOC', ''), ('Norine', 'LOC', ''), ('Toinon', 'LOC', ''), ('Toinon', 'LOC', ''), ('Toinon', 'LOC', ''), ('blme', 'PER', ''), ('B', 'LOC', ''), ('Morlinval', 'LOC', ''), ('Toinon', 'LOC', ''), ('UN REVENANT3-\\\\nN1II\\\\nUN EVENANT', 'ORG', ''), ('Brugnon', 'PER', ''), ('Saint-Brunelle', 'LOC', ''), ('Brugnon', 'PER', ''), ('Brugnon', 'PER', ''), ('Brugnon', 'PER', ''), ('Perpetue', 'LOC', ''), ('Saint-\\\\nBrunelle', 'LOC', ''), ('Dizy', 'LOC', ''), ('Dizy', 'LOC', ''), ('Dizy', 'LOC', ''), ('MIais', 'MISC', ''), ('Poulains', 'LOC', ''), ('Perpelue', 'LOC', ''), ('Garnissons', 'MISC', ''), ('Norine', 'LOC', ''), ('Norine', 'LOC', ''), ('Norine', 'LOC', ''), ('Dizy', 'LOC', ''), ('Clarisse\\\\nManot', 'ORG', ''), ('Clarisse', 'ORG', ''), ('Norine', 'LOC', ''), ('MI0N', 'LOC', ''), ('Roseet', 'LOC', ''), ('Norine', 'LOC', ''), ('Paris', 'LOC', ''), ('Mlais', 'LOC', ''), ('Vend0me', 'LOC', ''), ('Paris', 'LOC', ''), ('Clarisse', 'ORG', ''), ('Clarisse', 'ORG', ''), ('Palais-Royal', 'LOC', ''), ('Royal', 'PER', ''), ('Paris', 'LOC', ''), ('MIais', 'MISC', ''), ('Parisien', 'LOC', ''), ('Parisiens', 'LOC', ''), ('Morlincourt', 'LOC', ''), ('Est', 'LOC', ''), ('la France', 'LOC', ''), ('Saint-Brunellel\\\\n', 'LOC', ''), ('Saint-Brunelle', 'LOC', ''), ('Rose', 'MISC', ''), ('Saint-Brunelle', 'LOC', ''), ('Rose', 'MISC', ''), ('Saint-Brunelle', 'LOC', ''), ('Lasl', 'LOC', ''), ('Berenice', 'PER', ''), ('du Nord', 'LOC', ''), ('Paris', 'LOC', ''), ('lFrance', 'MISC', ''), ('Nord', 'LOC', ''), ('Paris', 'LOC', '')]\n"
     ]
    }
   ],
   "source": [
    "ents = [(e.text, e.label_, e.kb_id_) for e in doc.ents]\n",
    "print(ents)  # [('Ada Lovelace', 'PERSON', 'Q7259'), ('London', 'GPE', 'Q84')]\n",
    "\n"
   ]
  },
  {
   "cell_type": "code",
   "execution_count": 43,
   "id": "1f679a5a",
   "metadata": {},
   "outputs": [
    {
     "name": "stdout",
     "output_type": "stream",
     "text": [
      "['[', '', '']\n",
      "['\"', '', '']\n",
      "['\"', '', '']\n"
     ]
    }
   ],
   "source": [
    "# Token level\n",
    "ent_ada_0 = [doc[0].text, doc[0].ent_type_, doc[0].ent_kb_id_]\n",
    "ent_ada_1 = [doc[1].text, doc[1].ent_type_, doc[1].ent_kb_id_]\n",
    "ent_london_5 = [doc[5].text, doc[5].ent_type_, doc[5].ent_kb_id_]\n",
    "print(ent_ada_0)  # ['Ada', 'PERSON', 'Q7259']\n",
    "print(ent_ada_1)  # ['Lovelace', 'PERSON', 'Q7259']\n",
    "print(ent_london_5)  # ['London', 'GPE', 'Q84']"
   ]
  },
  {
   "cell_type": "code",
   "execution_count": null,
   "id": "8141dc00",
   "metadata": {},
   "outputs": [],
   "source": []
  }
 ],
 "metadata": {
  "kernelspec": {
   "display_name": "Python 3 (ipykernel)",
   "language": "python",
   "name": "python3"
  },
  "language_info": {
   "codemirror_mode": {
    "name": "ipython",
    "version": 3
   },
   "file_extension": ".py",
   "mimetype": "text/x-python",
   "name": "python",
   "nbconvert_exporter": "python",
   "pygments_lexer": "ipython3",
   "version": "3.9.7"
  }
 },
 "nbformat": 4,
 "nbformat_minor": 5
}
