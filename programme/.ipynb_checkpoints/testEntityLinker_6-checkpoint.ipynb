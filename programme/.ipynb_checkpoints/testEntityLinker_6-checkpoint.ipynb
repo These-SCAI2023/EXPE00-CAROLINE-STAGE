{
 "cells": [
  {
   "cell_type": "markdown",
   "id": "394c5bd3",
   "metadata": {},
   "source": [
    "du 11/04/2023  \n",
    "notebook 6  \n",
    "objectif : pouvoir comparer les sorties  \n",
    "contexte : "
   ]
  },
  {
   "cell_type": "markdown",
   "id": "20b3f5c6",
   "metadata": {},
   "source": [
    "# Test du sytème d'entity linking de Spacy"
   ]
  },
  {
   "cell_type": "code",
   "execution_count": 28,
   "id": "2eb879e9",
   "metadata": {},
   "outputs": [
    {
     "data": {
      "text/plain": [
       "<spacy_entity_linker.EntityLinker.EntityLinker at 0x7f42d9282e50>"
      ]
     },
     "execution_count": 28,
     "metadata": {},
     "output_type": "execute_result"
    }
   ],
   "source": [
    "import json\n",
    "import spacy  # version 3.5\n",
    "import glob \n",
    "\n",
    "\n",
    "# initialize language model\n",
    "nlp = spacy.load(\"fr_core_news_lg\")\n",
    "\n",
    "# add pipeline (declared through entry_points in setup.py)\n",
    "nlp.add_pipe(\"entityLinker\", last=True)"
   ]
  },
  {
   "cell_type": "markdown",
   "id": "db6b9f70",
   "metadata": {},
   "source": [
    "## Définition des fonctions"
   ]
  },
  {
   "cell_type": "code",
   "execution_count": 29,
   "id": "9447ee21",
   "metadata": {},
   "outputs": [],
   "source": [
    "def lire_corpus(chemin):\n",
    "    with open (chemin,\"r\") as fichier:\n",
    "        texte=fichier.read()\n",
    "        # fichier.close()\n",
    "        # print(texte)\n",
    "        return texte"
   ]
  },
  {
   "cell_type": "code",
   "execution_count": 30,
   "id": "7e021305",
   "metadata": {},
   "outputs": [],
   "source": [
    "def lire_fichier (chemin):\n",
    "    with open(chemin) as json_data: \n",
    "        texte =json.load(json_data)\n",
    "    return texte"
   ]
  },
  {
   "cell_type": "code",
   "execution_count": 31,
   "id": "ad677e80",
   "metadata": {},
   "outputs": [],
   "source": [
    "def nomfichier(chemin):\n",
    "    nomfich= chemin.split(\"/\")[-1]\n",
    "    nomfich= nomfich.split(\".\")\n",
    "    nomfich= (\"_\").join([nomfich[0],nomfich[1]])\n",
    "    return nomfichier"
   ]
  },
  {
   "cell_type": "code",
   "execution_count": 32,
   "id": "d413f568",
   "metadata": {},
   "outputs": [],
   "source": [
    "def stocker(nom,contenu):                                                    #definition fonction pour stocker fichier en format json\n",
    "    w=open(nom,\"w\",encoding='utf-8')                                                          #ouverture du fichier en mode écriture\n",
    "    w.write(json.dumps(contenu, indent=2))                                      #écriture du contenu dans le fichier\n",
    "    w.close()  \n",
    "#with open('output_file.json', 'w', encoding='utf-8') as f:\n",
    "    #json.dump(ents, f, ensure_ascii=False, indent=4)"
   ]
  },
  {
   "cell_type": "code",
   "execution_count": 33,
   "id": "4e449401",
   "metadata": {},
   "outputs": [],
   "source": [
    "def transformer (texte):\n",
    "    doc = nlp(texte)\n",
    "    liste_info=[]\n",
    "    #ents = [(e.text, e.label_, e.kb_id_) for e in doc.ents]\n",
    "    #ents = [(e.text, e.label_, e.kb_id_) for e in doc.ents]\n",
    "    for ent in doc._.linkedEntities:\n",
    "        url_00 = ent.get_url()\n",
    "        label_00=ent.get_label()\n",
    "        description=ent.get_description()\n",
    "        span_00=ent.get_span()\n",
    "        liste_info.append([url_00,label_00,description,span_00])\n",
    "        \n",
    "    #ents.sort()\n",
    "    return liste_info"
   ]
  },
  {
   "cell_type": "code",
   "execution_count": 34,
   "id": "4085e03f",
   "metadata": {},
   "outputs": [],
   "source": [
    "def compare (data1,data2):\n",
    "    # Extraire les valeurs de chaque fichier\n",
    "    values1 = set(data1.values())\n",
    "    values2 = set(data2.values())\n",
    "\n",
    "    # Trouver les valeurs communes\n",
    "    common_values = values1.intersection(values2)\n",
    "\n",
    "    # Afficher les valeurs communes\n",
    "    print(\"Les valeurs communes sont :\", common_values)"
   ]
  },
  {
   "cell_type": "markdown",
   "id": "688c92d7",
   "metadata": {},
   "source": [
    "# Tentative de solution développée"
   ]
  },
  {
   "cell_type": "code",
   "execution_count": 35,
   "id": "8141dc00",
   "metadata": {},
   "outputs": [
    {
     "ename": "TypeError",
     "evalue": "list.append() takes exactly one argument (4 given)",
     "output_type": "error",
     "traceback": [
      "\u001b[0;31m---------------------------------------------------------------------------\u001b[0m",
      "\u001b[0;31mTypeError\u001b[0m                                 Traceback (most recent call last)",
      "\u001b[0;32m/tmp/ipykernel_13870/3223997579.py\u001b[0m in \u001b[0;36m<module>\u001b[0;34m\u001b[0m\n\u001b[1;32m     11\u001b[0m     \u001b[0;31m# Application de la fonction transformer()\u001b[0m\u001b[0;34m\u001b[0m\u001b[0;34m\u001b[0m\u001b[0m\n\u001b[1;32m     12\u001b[0m         \u001b[0;31m#print(newdata)\u001b[0m\u001b[0;34m\u001b[0m\u001b[0;34m\u001b[0m\u001b[0m\n\u001b[0;32m---> 13\u001b[0;31m         \u001b[0mresultats\u001b[0m \u001b[0;34m=\u001b[0m \u001b[0mtransformer\u001b[0m\u001b[0;34m(\u001b[0m\u001b[0mnewdata\u001b[0m\u001b[0;34m)\u001b[0m\u001b[0;34m\u001b[0m\u001b[0;34m\u001b[0m\u001b[0m\n\u001b[0m\u001b[1;32m     14\u001b[0m \u001b[0;34m\u001b[0m\u001b[0m\n\u001b[1;32m     15\u001b[0m         \u001b[0;31m# Affichage des résultats ou sauvegarde dans un fichier, etc.\u001b[0m\u001b[0;34m\u001b[0m\u001b[0;34m\u001b[0m\u001b[0m\n",
      "\u001b[0;32m/tmp/ipykernel_13870/4270039300.py\u001b[0m in \u001b[0;36mtransformer\u001b[0;34m(texte)\u001b[0m\n\u001b[1;32m      9\u001b[0m         \u001b[0mdescription\u001b[0m\u001b[0;34m=\u001b[0m\u001b[0ment\u001b[0m\u001b[0;34m.\u001b[0m\u001b[0mget_description\u001b[0m\u001b[0;34m(\u001b[0m\u001b[0;34m)\u001b[0m\u001b[0;34m\u001b[0m\u001b[0;34m\u001b[0m\u001b[0m\n\u001b[1;32m     10\u001b[0m         \u001b[0mspan_00\u001b[0m\u001b[0;34m=\u001b[0m\u001b[0ment\u001b[0m\u001b[0;34m.\u001b[0m\u001b[0mget_span\u001b[0m\u001b[0;34m(\u001b[0m\u001b[0;34m)\u001b[0m\u001b[0;34m\u001b[0m\u001b[0;34m\u001b[0m\u001b[0m\n\u001b[0;32m---> 11\u001b[0;31m         \u001b[0mliste_info\u001b[0m\u001b[0;34m.\u001b[0m\u001b[0mappend\u001b[0m\u001b[0;34m(\u001b[0m\u001b[0murl_00\u001b[0m\u001b[0;34m,\u001b[0m\u001b[0mlabel_00\u001b[0m\u001b[0;34m,\u001b[0m\u001b[0mdescription\u001b[0m\u001b[0;34m,\u001b[0m\u001b[0mspan_00\u001b[0m\u001b[0;34m)\u001b[0m\u001b[0;34m\u001b[0m\u001b[0;34m\u001b[0m\u001b[0m\n\u001b[0m\u001b[1;32m     12\u001b[0m \u001b[0;34m\u001b[0m\u001b[0m\n\u001b[1;32m     13\u001b[0m     \u001b[0;31m#ents.sort()\u001b[0m\u001b[0;34m\u001b[0m\u001b[0;34m\u001b[0m\u001b[0m\n",
      "\u001b[0;31mTypeError\u001b[0m: list.append() takes exactly one argument (4 given)"
     ]
    }
   ],
   "source": [
    "\n",
    "def stocker(chemin, contenu):\n",
    "    with open(chemin, \"w\", encoding='UTF-8') as fichier:\n",
    "        json.dump(contenu, fichier, indent=2)\n",
    "path_corpora = \"../DATA/DATA-Fra_spaCy3.3.1_CONCAT/ADAM/ADAM_krakenbase/ADAM_MOD/*.json\"\n",
    "\n",
    "for fichier in glob.glob(path_corpora):\n",
    "    with open(fichier, \"r\", encoding='UTF-8') as f:\n",
    "    \n",
    "        data = json.load(f)\n",
    "        newdata = json.dumps(data)\n",
    "    # Application de la fonction transformer()\n",
    "        #print(newdata)\n",
    "        resultats = transformer(newdata)\n",
    "        \n",
    "        # Affichage des résultats ou sauvegarde dans un fichier, etc.\n",
    "    print(resultats)\n",
    "    \n",
    "    #stocker(path_corpora, resultats)\n",
    "    "
   ]
  },
  {
   "cell_type": "code",
   "execution_count": 36,
   "id": "344d24eb",
   "metadata": {},
   "outputs": [
    {
     "name": "stdout",
     "output_type": "stream",
     "text": [
      "SUBCORPUS*** ../DATA/DATA-Fra_spaCy3.3.1_CONCAT/ADAM/ADAM_krakenbase/ADAM_MOD/ADAM_Mon-village_Kraken-base_txt_spacy-sm-concat.json\n",
      "SUBCORPUS*** ../DATA/DATA-Fra_spaCy3.3.1_CONCAT/ADAM/ADAM_krakenbase/ADAM_MOD/*.json\n",
      "SUBCORPUS*** ../DATA/DATA-Fra_spaCy3.3.1_CONCAT/ADAM/ADAM_krakenbase/ADAM_MOD/ADAM_Mon-village_Kraken-base.txt_spacy-lg.json\n",
      "SUBCORPUS*** ../DATA/DATA-Fra_spaCy3.3.1_CONCAT/ADAM/ADAM_krakenbase/ADAM_MOD/ADAM_Mon-village_Kraken-base.txt_spacy-sm.json\n",
      "SUBCORPUS*** ../DATA/DATA-Fra_spaCy3.3.1_CONCAT/ADAM/ADAM_krakenbase/ADAM_MOD/ADAM_Mon-village_Kraken-base.txt_spacy-md.json\n",
      "SUBCORPUS*** ../DATA/DATA-Fra_spaCy3.3.1_CONCAT/ADAM/ADAM_krakenbase/ADAM_MOD/ADAM_Mon-village_Kraken-base_txt_spacy-lg-concat.json\n",
      "SUBCORPUS*** ../DATA/DATA-Fra_spaCy3.3.1_CONCAT/ADAM/ADAM_krakenbase/ADAM_MOD/ADAM_Mon-village_Kraken-base_txt_spacy-md-concat.json\n"
     ]
    }
   ],
   "source": [
    "path_corpora = \"../DATA/DATA-Fra_spaCy3.3.1_CONCAT/ADAM/ADAM_krakenbase/ADAM_MOD/*.json\"\n",
    "#path_corpora = \"../DATA/corpora_SPACY2.3.5_CLUSTER/DAUDET/DAUDET_kraken-base\"\n",
    "for subcorpus in glob.glob(path_corpora):\n",
    "    print(\"SUBCORPUS***\",subcorpus)\n",
    "    liste_nom_fichier =[]\n",
    "    for path in glob.glob(\"%s/DAUDET_MOD/*lg_spacy.json-concat.json\"%subcorpus):\n",
    "        print(\"PATH*****\",path)\n",
    "        \n",
    "        nom_fichier = nomfichier(path)\n",
    "        print(nom_fichier)\n",
    "        liste=lire_fichier(path)"
   ]
  },
  {
   "cell_type": "code",
   "execution_count": null,
   "id": "09fb9e6c",
   "metadata": {},
   "outputs": [],
   "source": []
  }
 ],
 "metadata": {
  "kernelspec": {
   "display_name": "Python 3 (ipykernel)",
   "language": "python",
   "name": "python3"
  },
  "language_info": {
   "codemirror_mode": {
    "name": "ipython",
    "version": 3
   },
   "file_extension": ".py",
   "mimetype": "text/x-python",
   "name": "python",
   "nbconvert_exporter": "python",
   "pygments_lexer": "ipython3",
   "version": "3.9.7"
  }
 },
 "nbformat": 4,
 "nbformat_minor": 5
}
